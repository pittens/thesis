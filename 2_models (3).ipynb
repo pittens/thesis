{
  "nbformat": 4,
  "nbformat_minor": 0,
  "metadata": {
    "colab": {
      "name": "2_models.ipynb",
      "provenance": [],
      "collapsed_sections": [
        "INgbCAKySTn7",
        "oa3VKTpm9Q17",
        "bVXCc83s_S-5",
        "-pXXAZfb_Cdp",
        "uDfonhscSc8g",
        "IMqYm0gGUJwm",
        "sDseyPq9jFhO"
      ],
      "machine_shape": "hm"
    },
    "kernelspec": {
      "name": "python3",
      "display_name": "Python 3"
    },
    "accelerator": "GPU"
  },
  "cells": [
    {
      "cell_type": "markdown",
      "metadata": {
        "id": "-TSUw1q0QTM-",
        "colab_type": "text"
      },
      "source": [
        "# 2. Models\n",
        "This script includes the LSTM models for the three different sets. The LSTM is backed by CuDNN (CuDNNLSTM). The script can only run on GPU, with the TensorFlow backend. In Google Colab, you can switch to GPU via: Runtime > Change runtime type > Hardware accelerator > GPU."
      ]
    },
    {
      "cell_type": "markdown",
      "metadata": {
        "id": "INgbCAKySTn7",
        "colab_type": "text"
      },
      "source": [
        "## 2.1. Preliminary"
      ]
    },
    {
      "cell_type": "markdown",
      "metadata": {
        "id": "PVOIt8dxSUv7",
        "colab_type": "text"
      },
      "source": [
        "Import modules."
      ]
    },
    {
      "cell_type": "code",
      "metadata": {
        "id": "n21AqshWg7Y1",
        "colab_type": "code",
        "colab": {}
      },
      "source": [
        "from google.colab import drive\n",
        "import os\n",
        "import numpy as np\n",
        "import tensorflow as tf\n",
        "from tensorflow.keras.models import Sequential\n",
        "from tensorflow.keras.layers import Dense, CuDNNLSTM\n",
        "from keras.regularizers import l2\n",
        "from keras.callbacks import EarlyStopping, ModelCheckpoint\n",
        "import matplotlib.pyplot as plt\n",
        "from sklearn import svm, datasets\n",
        "from sklearn.model_selection import train_test_split\n",
        "from sklearn.metrics import confusion_matrix\n",
        "from numpy import argmax\n",
        "from sklearn.utils.multiclass import unique_labels"
      ],
      "execution_count": 0,
      "outputs": []
    },
    {
      "cell_type": "markdown",
      "metadata": {
        "id": "DhvT1xAUSaAf",
        "colab_type": "text"
      },
      "source": [
        "Mount drive and change current working directory."
      ]
    },
    {
      "cell_type": "code",
      "metadata": {
        "id": "DDugjYETjBA2",
        "colab_type": "code",
        "colab": {}
      },
      "source": [
        "drive.mount('/content/drive', force_remount = True)\n",
        "os.chdir(\"/content/drive/My Drive/thesis/\")"
      ],
      "execution_count": 0,
      "outputs": []
    },
    {
      "cell_type": "markdown",
      "metadata": {
        "id": "C8tLBtax8MDK",
        "colab_type": "text"
      },
      "source": [
        "Set seed to prevent randomness on multiple executions of the code."
      ]
    },
    {
      "cell_type": "code",
      "metadata": {
        "id": "ulVNBC61dd2W",
        "colab_type": "code",
        "colab": {}
      },
      "source": [
        "np.random.seed(1)"
      ],
      "execution_count": 0,
      "outputs": []
    },
    {
      "cell_type": "markdown",
      "metadata": {
        "id": "XuukM-IJ8Yv4",
        "colab_type": "text"
      },
      "source": [
        "Create function for confusion matrix (source: [scikit-learn developers](https://scikit-learn.org/stable/auto_examples/model_selection/plot_confusion_matrix.html)).\n"
      ]
    },
    {
      "cell_type": "code",
      "metadata": {
        "id": "XKaeFtro8Y5t",
        "colab_type": "code",
        "colab": {}
      },
      "source": [
        "def plot_confusion_matrix(cm, classes,\n",
        "                          normalize=False,\n",
        "                          cmap=plt.cm.gist_yarg):\n",
        "    \"\"\"\n",
        "    This function prints and plots the confusion matrix.\n",
        "    Normalization can be applied by setting `normalize=True`.\n",
        "    \"\"\"\n",
        "    import itertools\n",
        "\n",
        "    plt.imshow(cm, interpolation='nearest', cmap=cmap)\n",
        "    plt.colorbar()\n",
        "    tick_marks = np.arange(len(classes))\n",
        "    plt.xticks(tick_marks, classes, rotation=45, ha=\"right\", rotation_mode=\"anchor\")\n",
        "    plt.yticks(tick_marks, classes)\n",
        "\n",
        "    fmt = '.2f' if normalize else 'd'\n",
        "    thresh = cm.max() / 2.\n",
        "    for i, j in itertools.product(range(cm.shape[0]), range(cm.shape[1])):\n",
        "        plt.text(j, i, format(cm[i, j], fmt),\n",
        "                 horizontalalignment=\"center\",\n",
        "                 color=\"white\" if cm[i, j] > thresh else \"black\")\n",
        "\n",
        "    plt.ylabel('True label')\n",
        "    plt.xlabel('Predicted label')\n",
        "    plt.autoscale()"
      ],
      "execution_count": 0,
      "outputs": []
    },
    {
      "cell_type": "markdown",
      "metadata": {
        "id": "oa3VKTpm9Q17",
        "colab_type": "text"
      },
      "source": [
        "##2.2. Data"
      ]
    },
    {
      "cell_type": "markdown",
      "metadata": {
        "id": "bVXCc83s_S-5",
        "colab_type": "text"
      },
      "source": [
        "### 2.2.1. Import"
      ]
    },
    {
      "cell_type": "markdown",
      "metadata": {
        "id": "DNenslIy9fxo",
        "colab_type": "text"
      },
      "source": [
        "The data is available in the 'input' folder. Import the NumPy array objects."
      ]
    },
    {
      "cell_type": "code",
      "metadata": {
        "id": "n9Y5shBk9RLB",
        "colab_type": "code",
        "colab": {}
      },
      "source": [
        "x_HAART  = np.load('input/x_HAART.npy')\n",
        "y_HAART  = np.load('input/y_HAART.npy')\n",
        "x_COST  = np.load('input/x_COST.npy', allow_pickle = True)\n",
        "y_COST  = np.load('input/y_COST.npy')\n",
        "x_COSTHAART  = np.load('input/x_COSTHAART.npy', allow_pickle = True)\n",
        "y_COSTHAART  = np.load('input/y_COSTHAART.npy')"
      ],
      "execution_count": 0,
      "outputs": []
    },
    {
      "cell_type": "markdown",
      "metadata": {
        "id": "-pXXAZfb_Cdp",
        "colab_type": "text"
      },
      "source": [
        "### 2.2.2. Dataset splitting"
      ]
    },
    {
      "cell_type": "markdown",
      "metadata": {
        "id": "lgG_g6N0mASz",
        "colab_type": "text"
      },
      "source": [
        "Create a function what can be used for a 60/20/20 split. First the input wil be splitted by the train_frac (which will be "
      ]
    },
    {
      "cell_type": "code",
      "metadata": {
        "id": "X5zL_9l--_Mh",
        "colab_type": "code",
        "colab": {}
      },
      "source": [
        "def data_split(predictor_variables, target_variables, train_frac, random_state = None):\n",
        "    \"Create a Train/Test/Val set given a ratio of the train set to the whole dataset.\"\n",
        "    from sklearn.model_selection import train_test_split #Split arrays or matrices into random train and test subsets.\n",
        "    x_train, x_tmp, y_train, y_tmp = train_test_split(predictor_variables, target_variables, train_size = train_frac, random_state = random_state)\n",
        "    x_val, x_test, y_val, y_test = train_test_split(x_tmp, y_tmp, train_size = 0.5, random_state = random_state)\n",
        "    return x_train, x_val, x_test, y_train, y_val, y_test"
      ],
      "execution_count": 0,
      "outputs": []
    },
    {
      "cell_type": "markdown",
      "metadata": {
        "id": "B_ncyu8VJK45",
        "colab_type": "text"
      },
      "source": [
        "Create the split for both the COST set, HAART set, and combined set."
      ]
    },
    {
      "cell_type": "code",
      "metadata": {
        "id": "etKY0JGqAMnI",
        "colab_type": "code",
        "colab": {}
      },
      "source": [
        "x_trn_H, x_val_H, x_tst_H, y_trn_H, y_val_H, y_tst_H  = data_split(x_HAART, y_HAART, 0.6, random_state = 1)\n",
        "x_trn_C, x_val_C, x_tst_C, y_trn_C, y_val_C, y_tst_C  = data_split(x_COST, y_COST, 0.6, random_state = 1)\n",
        "x_trn_HC, x_val_HC, x_tst_HC, y_trn_HC, y_val_HC, y_tst_HC = data_split(x_COSTHAART, y_COSTHAART, 0.6, random_state = 1)"
      ],
      "execution_count": 0,
      "outputs": []
    },
    {
      "cell_type": "markdown",
      "metadata": {
        "id": "uDfonhscSc8g",
        "colab_type": "text"
      },
      "source": [
        "##2.3. Model 1: HAART"
      ]
    },
    {
      "cell_type": "markdown",
      "metadata": {
        "id": "vCsQzYt7FaGa",
        "colab_type": "text"
      },
      "source": [
        "This model obtained classification results of 49.3% on the training set and 47.2% on the validation set."
      ]
    },
    {
      "cell_type": "code",
      "metadata": {
        "id": "LfLc1YrlRluU",
        "colab_type": "code",
        "outputId": "4ccef459-a762-421e-9969-ef17f536fd3d",
        "colab": {
          "base_uri": "https://localhost:8080/",
          "height": 470
        }
      },
      "source": [
        "model = Sequential() #Create model layer-by-layer.\n",
        "\n",
        "model.add(CuDNNLSTM(54, kernel_regularizer = l2(l = 0.001), input_shape =(x_trn_H.shape[1:]), return_sequences = True))\n",
        "          \n",
        "model.add(CuDNNLSTM(27, kernel_regularizer = l2(l = 0.001)))\n",
        "          \n",
        "model.add(Dense(6, activation = \"softmax\")) #Use softmax for multi-class classification.\n",
        "\n",
        "opt = tf.keras.optimizers.Adam(lr=0.001)\n",
        "\n",
        "es = EarlyStopping(monitor = 'val_acc', \n",
        "                   mode = 'max', \n",
        "                   patience = 4,\n",
        "                   restore_best_weights = True)\n",
        "\n",
        "model.compile(loss = \"categorical_crossentropy\",\n",
        "              optimizer = opt,\n",
        "              metrics = [\"accuracy\"])\n",
        "\n",
        "history_H = model.fit(x_trn_H, \n",
        "                      y_trn_H,\n",
        "                      batch_size = 5,\n",
        "                      epochs = 100,\n",
        "                      callbacks = [es], \n",
        "                      validation_data = (x_val_H, y_val_H))"
      ],
      "execution_count": 0,
      "outputs": [
        {
          "output_type": "stream",
          "text": [
            "Train on 426 samples, validate on 142 samples\n",
            "Epoch 1/100\n",
            "426/426 [==============================] - 7s 16ms/sample - loss: 1.9060 - acc: 0.2277 - val_loss: 1.7986 - val_acc: 0.3028\n",
            "Epoch 2/100\n",
            "426/426 [==============================] - 2s 4ms/sample - loss: 1.7403 - acc: 0.3498 - val_loss: 1.7507 - val_acc: 0.2887\n",
            "Epoch 3/100\n",
            "426/426 [==============================] - 2s 4ms/sample - loss: 1.6405 - acc: 0.4155 - val_loss: 1.5382 - val_acc: 0.4225\n",
            "Epoch 4/100\n",
            "426/426 [==============================] - 2s 4ms/sample - loss: 1.5311 - acc: 0.4108 - val_loss: 1.6114 - val_acc: 0.3873\n",
            "Epoch 5/100\n",
            "426/426 [==============================] - 2s 4ms/sample - loss: 1.4954 - acc: 0.4531 - val_loss: 1.5834 - val_acc: 0.4225\n",
            "Epoch 6/100\n",
            "426/426 [==============================] - 2s 4ms/sample - loss: 1.4065 - acc: 0.5141 - val_loss: 1.5225 - val_acc: 0.4507\n",
            "Epoch 7/100\n",
            "426/426 [==============================] - 2s 4ms/sample - loss: 1.4640 - acc: 0.4624 - val_loss: 1.6440 - val_acc: 0.3310\n",
            "Epoch 8/100\n",
            "426/426 [==============================] - 2s 4ms/sample - loss: 1.4362 - acc: 0.4859 - val_loss: 1.5057 - val_acc: 0.4648\n",
            "Epoch 9/100\n",
            "426/426 [==============================] - 2s 4ms/sample - loss: 1.3695 - acc: 0.4930 - val_loss: 1.4746 - val_acc: 0.4718\n",
            "Epoch 10/100\n",
            "426/426 [==============================] - 2s 4ms/sample - loss: 1.2690 - acc: 0.5540 - val_loss: 1.5263 - val_acc: 0.4225\n",
            "Epoch 11/100\n",
            "426/426 [==============================] - 2s 4ms/sample - loss: 1.2716 - acc: 0.5423 - val_loss: 1.5343 - val_acc: 0.3944\n",
            "Epoch 12/100\n",
            "426/426 [==============================] - 2s 4ms/sample - loss: 1.2106 - acc: 0.5540 - val_loss: 1.4934 - val_acc: 0.4437\n",
            "Epoch 13/100\n",
            "426/426 [==============================] - 3s 6ms/sample - loss: 1.2180 - acc: 0.5563 - val_loss: 1.5160 - val_acc: 0.3662\n"
          ],
          "name": "stdout"
        }
      ]
    },
    {
      "cell_type": "markdown",
      "metadata": {
        "id": "QAkbVKetLxGB",
        "colab_type": "text"
      },
      "source": [
        "Calculate the test accuracy."
      ]
    },
    {
      "cell_type": "code",
      "metadata": {
        "id": "iH_Ppe4ELxXN",
        "colab_type": "code",
        "outputId": "bd907156-2891-4e2e-c640-22841ce0a7b3",
        "colab": {
          "base_uri": "https://localhost:8080/",
          "height": 67
        }
      },
      "source": [
        "score, acc = model.evaluate(x_tst_H, y_tst_H)\n",
        "\n",
        "print('Loss function:', score)\n",
        "print('Test accuracy:', acc)"
      ],
      "execution_count": 0,
      "outputs": [
        {
          "output_type": "stream",
          "text": [
            "142/142 [==============================] - 0s 1ms/sample - loss: 1.4651 - acc: 0.4789\n",
            "Loss function: 1.4650948517759081\n",
            "Test accuracy: 0.47887325\n"
          ],
          "name": "stdout"
        }
      ]
    },
    {
      "cell_type": "markdown",
      "metadata": {
        "id": "0i-GVknVIq0C",
        "colab_type": "text"
      },
      "source": [
        "\n",
        "Generate extra visual information for the report."
      ]
    },
    {
      "cell_type": "code",
      "metadata": {
        "id": "-6zcGY_DF78K",
        "colab_type": "code",
        "outputId": "af47a2e5-6e6f-4165-8b4d-cb4c1a46ab1c",
        "colab": {
          "base_uri": "https://localhost:8080/",
          "height": 252
        }
      },
      "source": [
        "model.summary()"
      ],
      "execution_count": 0,
      "outputs": [
        {
          "output_type": "stream",
          "text": [
            "Model: \"sequential_60\"\n",
            "_________________________________________________________________\n",
            "Layer (type)                 Output Shape              Param #   \n",
            "=================================================================\n",
            "cu_dnnlstm_120 (CuDNNLSTM)   (None, 432, 54)           25920     \n",
            "_________________________________________________________________\n",
            "cu_dnnlstm_121 (CuDNNLSTM)   (None, 27)                8964      \n",
            "_________________________________________________________________\n",
            "dense_60 (Dense)             (None, 6)                 168       \n",
            "=================================================================\n",
            "Total params: 35,052\n",
            "Trainable params: 35,052\n",
            "Non-trainable params: 0\n",
            "_________________________________________________________________\n"
          ],
          "name": "stdout"
        }
      ]
    },
    {
      "cell_type": "code",
      "metadata": {
        "id": "fh0op4Z6qrs4",
        "colab_type": "code",
        "colab": {}
      },
      "source": [
        "#Add an value at the beginning of the lists to get values on right axes.\n",
        "history_H.history['acc'].insert(0,0.0)\n",
        "history_H.history['val_acc'].insert(0,0.0)\n",
        "history_H.history['loss'].insert(0,0.0)\n",
        "history_H.history['val_loss'].insert(0,0.0)"
      ],
      "execution_count": 0,
      "outputs": []
    },
    {
      "cell_type": "code",
      "metadata": {
        "id": "rqmtVaVNF7_M",
        "colab_type": "code",
        "outputId": "8b9c1976-fc9a-462d-9666-84eebad383bf",
        "colab": {
          "base_uri": "https://localhost:8080/",
          "height": 565
        }
      },
      "source": [
        "#Plot train and validation accuracy\n",
        "acc = plt.style.use('seaborn-whitegrid')\n",
        "acc = plt.plot(history_H.history['acc'], color = \"#31475C\")\n",
        "acc = plt.plot(history_H.history['val_acc'], color = \"#9DABB5\")\n",
        "acc = plt.title('Model accuracy')\n",
        "acc = plt.ylabel('Accuracy')\n",
        "acc = plt.xlabel('Epochs')\n",
        "acc = plt.legend(['Train', 'Validation'], loc='upper left', fontsize = 12)\n",
        "acc = plt.axvline(x=9)\n",
        "acc = plt.xlim((1,14))\n",
        "acc = plt.ylim((0.2,0.6))\n",
        "acc = plt.text(9.3,0.3,'EarlyStopping')\n",
        "acc = plt.savefig('figures/HAART_acc.png')\n",
        "acc = plt.show()\n",
        "\n",
        "#Plot train and validation loss\n",
        "loss = plt.style.use('seaborn-whitegrid')\n",
        "loss = plt.plot(history_H.history['loss'], color = \"#31475C\")\n",
        "loss = plt.plot(history_H.history['val_loss'], color = \"#9DABB5\")\n",
        "loss = plt.title('Model loss')\n",
        "loss = plt.ylabel('Loss')\n",
        "loss = plt.xlabel('Epochs')\n",
        "loss = plt.legend(['Train', 'Validation'], loc='lower left', fontsize = 12)\n",
        "loss = plt.axvline(x=9)\n",
        "loss = plt.xlim((1,14))\n",
        "loss = plt.ylim((1,2))\n",
        "loss = plt.text(9.3,1.8,'EarlyStopping')\n",
        "loss = plt.savefig('figures/HAART_loss.png')\n",
        "loss = plt.show()"
      ],
      "execution_count": 0,
      "outputs": [
        {
          "output_type": "display_data",
          "data": {
            "image/png": "[encoded data removed]",
            "text/plain": [
              "<Figure size 432x288 with 1 Axes>"
            ]
          },
          "metadata": {
            "tags": []
          }
        },
        {
          "output_type": "display_data",
          "data": {
            "image/png": "[encoded data removed]",
            "text/plain": [
              "<Figure size 432x288 with 1 Axes>"
            ]
          },
          "metadata": {
            "tags": []
          }
        }
      ]
    },
    {
      "cell_type": "markdown",
      "metadata": {
        "id": "qwYkVEeh9n3l",
        "colab_type": "text"
      },
      "source": [
        "Create confusion matrix."
      ]
    },
    {
      "cell_type": "code",
      "metadata": {
        "id": "pf6ebJwk9n_T",
        "colab_type": "code",
        "colab": {}
      },
      "source": [
        "y_pred_H = model.predict_classes(x_tst_H)\n",
        "\n",
        "counter = 0\n",
        "y_tst_cat_H = []\n",
        "for value in y_tst_H:\n",
        "  y_tst_cat_H.append(str(argmax(y_tst_H[counter])))\n",
        "  counter += 1\n",
        "\n",
        "y_tst_H = np.array(y_tst_cat_H)\n",
        "y_tst_H = y_tst_H.astype(int)"
      ],
      "execution_count": 0,
      "outputs": []
    },
    {
      "cell_type": "code",
      "metadata": {
        "id": "GMaq5WJW9ox9",
        "colab_type": "code",
        "colab": {}
      },
      "source": [
        "cnf_matrix = confusion_matrix(y_tst_H, y_pred_H, labels=[0,1,2,3,4,5])\n",
        "\n",
        "HAART_cm = plot_confusion_matrix(cnf_matrix, classes=[\"pat\",\"constant\",\"rub\",\"scratch\",\"stroke\",\"tickle\"])\n",
        "\n",
        "HAART_cm = plt.savefig('figures/HAART_cm.png')"
      ],
      "execution_count": 0,
      "outputs": []
    },
    {
      "cell_type": "markdown",
      "metadata": {
        "id": "IMqYm0gGUJwm",
        "colab_type": "text"
      },
      "source": [
        "##2.4. Model 2: CoST"
      ]
    },
    {
      "cell_type": "markdown",
      "metadata": {
        "id": "V7jvhSy4U3w4",
        "colab_type": "text"
      },
      "source": [
        "This model obtained classification results of 64.9% on the training set and 61.4% on the validation set."
      ]
    },
    {
      "cell_type": "code",
      "metadata": {
        "id": "KlSE2SC8jl21",
        "colab_type": "code",
        "outputId": "070250e9-2e56-404b-bdaa-4553707fdf22",
        "colab": {
          "base_uri": "https://localhost:8080/",
          "height": 1000
        }
      },
      "source": [
        "model = Sequential() #Create model layer-by-layer.\n",
        "\n",
        "model.add(CuDNNLSTM(54, kernel_regularizer = l2(l = 0.001), input_shape =(x_trn_C.shape[1:]), return_sequences = True))\n",
        "\n",
        "model.add(CuDNNLSTM(27, kernel_regularizer = l2(l = 0.001)))\n",
        "          \n",
        "model.add(Dense(6, activation = \"softmax\")) #Use softmax for multi-class classification.\n",
        "          \n",
        "opt = tf.keras.optimizers.Adam(lr=0.001)\n",
        "\n",
        "es = EarlyStopping(monitor = 'val_loss', \n",
        "                   mode = 'min', \n",
        "                   patience = 35)\n",
        "cp = ModelCheckpoint(monitor = 'val_acc',\n",
        "                     mode = 'max',\n",
        "                     filepath='/tmp/best_COST_score.hdf5', \n",
        "                     save_best_only = True)\n",
        "\n",
        "model.compile(loss = \"categorical_crossentropy\",\n",
        "              optimizer = opt,\n",
        "              metrics = [\"accuracy\"])\n",
        "\n",
        "history_C = model.fit(x_trn_C, \n",
        "                      y_trn_C,\n",
        "                      batch_size = 15,\n",
        "                      epochs = 500,\n",
        "                      callbacks = [es, cp], \n",
        "                      validation_data = (x_val_C, y_val_C))  "
      ],
      "execution_count": 0,
      "outputs": [
        {
          "output_type": "stream",
          "text": [
            "Train on 2005 samples, validate on 668 samples\n",
            "Epoch 1/500\n",
            "2005/2005 [==============================] - 23s 12ms/sample - loss: 1.8457 - acc: 0.2195 - val_loss: 1.8076 - val_acc: 0.2365\n",
            "Epoch 2/500\n",
            "2005/2005 [==============================] - 7s 3ms/sample - loss: 1.7750 - acc: 0.2204 - val_loss: 1.7783 - val_acc: 0.2350\n",
            "Epoch 3/500\n",
            "2005/2005 [==============================] - 7s 3ms/sample - loss: 1.7922 - acc: 0.1955 - val_loss: 1.7860 - val_acc: 0.2246\n",
            "Epoch 4/500\n",
            "2005/2005 [==============================] - 7s 3ms/sample - loss: 1.7562 - acc: 0.2180 - val_loss: 1.7686 - val_acc: 0.2305\n",
            "Epoch 5/500\n",
            "2005/2005 [==============================] - 7s 3ms/sample - loss: 1.7664 - acc: 0.2254 - val_loss: 1.7867 - val_acc: 0.2036\n",
            "Epoch 6/500\n",
            "2005/2005 [==============================] - 7s 3ms/sample - loss: 1.7664 - acc: 0.2160 - val_loss: 1.7774 - val_acc: 0.1901\n",
            "Epoch 7/500\n",
            "2005/2005 [==============================] - 7s 3ms/sample - loss: 1.7202 - acc: 0.2509 - val_loss: 1.6759 - val_acc: 0.2844\n",
            "Epoch 8/500\n",
            "2005/2005 [==============================] - 7s 3ms/sample - loss: 1.6676 - acc: 0.2743 - val_loss: 1.6339 - val_acc: 0.3278\n",
            "Epoch 9/500\n",
            "2005/2005 [==============================] - 7s 3ms/sample - loss: 1.6448 - acc: 0.3042 - val_loss: 1.5951 - val_acc: 0.3159\n",
            "Epoch 10/500\n",
            "2005/2005 [==============================] - 7s 3ms/sample - loss: 1.6280 - acc: 0.2933 - val_loss: 1.5880 - val_acc: 0.3204\n",
            "Epoch 11/500\n",
            "2005/2005 [==============================] - 7s 3ms/sample - loss: 1.6448 - acc: 0.2893 - val_loss: 1.5794 - val_acc: 0.3338\n",
            "Epoch 12/500\n",
            "2005/2005 [==============================] - 7s 3ms/sample - loss: 1.6994 - acc: 0.2633 - val_loss: 1.8004 - val_acc: 0.1737\n",
            "Epoch 13/500\n",
            "2005/2005 [==============================] - 7s 3ms/sample - loss: 1.7793 - acc: 0.2125 - val_loss: 1.7836 - val_acc: 0.1931\n",
            "Epoch 14/500\n",
            "2005/2005 [==============================] - 7s 3ms/sample - loss: 1.7868 - acc: 0.2090 - val_loss: 1.7939 - val_acc: 0.2201\n",
            "Epoch 15/500\n",
            "2005/2005 [==============================] - 7s 3ms/sample - loss: 1.7691 - acc: 0.2055 - val_loss: 1.7801 - val_acc: 0.1976\n",
            "Epoch 16/500\n",
            "2005/2005 [==============================] - 7s 3ms/sample - loss: 1.7264 - acc: 0.2474 - val_loss: 1.7215 - val_acc: 0.2784\n",
            "Epoch 17/500\n",
            "2005/2005 [==============================] - 7s 3ms/sample - loss: 1.6761 - acc: 0.2683 - val_loss: 1.6529 - val_acc: 0.2710\n",
            "Epoch 18/500\n",
            "2005/2005 [==============================] - 7s 3ms/sample - loss: 1.6510 - acc: 0.2958 - val_loss: 1.6217 - val_acc: 0.3084\n",
            "Epoch 19/500\n",
            "2005/2005 [==============================] - 7s 3ms/sample - loss: 1.6353 - acc: 0.2928 - val_loss: 1.6323 - val_acc: 0.2964\n",
            "Epoch 20/500\n",
            "2005/2005 [==============================] - 7s 3ms/sample - loss: 1.6204 - acc: 0.3017 - val_loss: 1.5975 - val_acc: 0.3338\n",
            "Epoch 21/500\n",
            "2005/2005 [==============================] - 7s 3ms/sample - loss: 1.6211 - acc: 0.2838 - val_loss: 1.6114 - val_acc: 0.2964\n",
            "Epoch 22/500\n",
            "2005/2005 [==============================] - 7s 3ms/sample - loss: 1.6121 - acc: 0.3007 - val_loss: 1.6071 - val_acc: 0.3293\n",
            "Epoch 23/500\n",
            "2005/2005 [==============================] - 7s 3ms/sample - loss: 1.6114 - acc: 0.3162 - val_loss: 1.6215 - val_acc: 0.3024\n",
            "Epoch 24/500\n",
            "2005/2005 [==============================] - 7s 3ms/sample - loss: 1.6124 - acc: 0.3012 - val_loss: 1.5569 - val_acc: 0.3368\n",
            "Epoch 25/500\n",
            "2005/2005 [==============================] - 7s 3ms/sample - loss: 1.5861 - acc: 0.3157 - val_loss: 1.5729 - val_acc: 0.3219\n",
            "Epoch 26/500\n",
            "2005/2005 [==============================] - 7s 3ms/sample - loss: 1.5887 - acc: 0.3117 - val_loss: 1.6082 - val_acc: 0.3249\n",
            "Epoch 27/500\n",
            "2005/2005 [==============================] - 7s 3ms/sample - loss: 1.5838 - acc: 0.3282 - val_loss: 1.5804 - val_acc: 0.3368\n",
            "Epoch 28/500\n",
            "2005/2005 [==============================] - 7s 3ms/sample - loss: 1.5882 - acc: 0.3222 - val_loss: 1.6041 - val_acc: 0.3353\n",
            "Epoch 29/500\n",
            "2005/2005 [==============================] - 7s 3ms/sample - loss: 1.5908 - acc: 0.3057 - val_loss: 1.5664 - val_acc: 0.3174\n",
            "Epoch 30/500\n",
            "2005/2005 [==============================] - 7s 3ms/sample - loss: 1.5771 - acc: 0.3227 - val_loss: 1.5759 - val_acc: 0.3129\n",
            "Epoch 31/500\n",
            "2005/2005 [==============================] - 7s 3ms/sample - loss: 1.5751 - acc: 0.3202 - val_loss: 1.5860 - val_acc: 0.2904\n",
            "Epoch 32/500\n",
            "2005/2005 [==============================] - 7s 3ms/sample - loss: 1.5727 - acc: 0.3162 - val_loss: 1.5609 - val_acc: 0.3084\n",
            "Epoch 33/500\n",
            "2005/2005 [==============================] - 7s 3ms/sample - loss: 1.5681 - acc: 0.3152 - val_loss: 1.5590 - val_acc: 0.3353\n",
            "Epoch 34/500\n",
            "2005/2005 [==============================] - 7s 3ms/sample - loss: 1.5741 - acc: 0.3287 - val_loss: 1.5979 - val_acc: 0.3159\n",
            "Epoch 35/500\n",
            "2005/2005 [==============================] - 7s 3ms/sample - loss: 1.5896 - acc: 0.3092 - val_loss: 1.5711 - val_acc: 0.3263\n",
            "Epoch 36/500\n",
            "2005/2005 [==============================] - 7s 3ms/sample - loss: 1.5762 - acc: 0.3152 - val_loss: 1.5666 - val_acc: 0.3293\n",
            "Epoch 37/500\n",
            "2005/2005 [==============================] - 7s 3ms/sample - loss: 1.5695 - acc: 0.3112 - val_loss: 1.5653 - val_acc: 0.3204\n",
            "Epoch 38/500\n",
            "2005/2005 [==============================] - 7s 3ms/sample - loss: 1.5734 - acc: 0.3067 - val_loss: 1.5586 - val_acc: 0.3249\n",
            "Epoch 39/500\n",
            "2005/2005 [==============================] - 7s 3ms/sample - loss: 1.5617 - acc: 0.3137 - val_loss: 1.5849 - val_acc: 0.2979\n",
            "Epoch 40/500\n",
            "2005/2005 [==============================] - 7s 3ms/sample - loss: 1.5796 - acc: 0.3122 - val_loss: 1.5663 - val_acc: 0.3338\n",
            "Epoch 41/500\n",
            "2005/2005 [==============================] - 7s 3ms/sample - loss: 1.5626 - acc: 0.3172 - val_loss: 1.5483 - val_acc: 0.3263\n",
            "Epoch 42/500\n",
            "2005/2005 [==============================] - 7s 3ms/sample - loss: 1.5686 - acc: 0.3242 - val_loss: 1.5545 - val_acc: 0.3353\n",
            "Epoch 43/500\n",
            "2005/2005 [==============================] - 7s 3ms/sample - loss: 1.5681 - acc: 0.3212 - val_loss: 1.5527 - val_acc: 0.3338\n",
            "Epoch 44/500\n",
            "2005/2005 [==============================] - 7s 3ms/sample - loss: 1.5553 - acc: 0.3377 - val_loss: 1.5478 - val_acc: 0.3308\n",
            "Epoch 45/500\n",
            "2005/2005 [==============================] - 7s 3ms/sample - loss: 1.5542 - acc: 0.3357 - val_loss: 1.5499 - val_acc: 0.3338\n",
            "Epoch 46/500\n",
            "2005/2005 [==============================] - 7s 3ms/sample - loss: 1.5776 - acc: 0.3167 - val_loss: 1.5512 - val_acc: 0.3368\n",
            "Epoch 47/500\n",
            "2005/2005 [==============================] - 7s 3ms/sample - loss: 1.5603 - acc: 0.3372 - val_loss: 1.5594 - val_acc: 0.3293\n",
            "Epoch 48/500\n",
            "2005/2005 [==============================] - 7s 3ms/sample - loss: 1.5555 - acc: 0.3262 - val_loss: 1.5429 - val_acc: 0.3353\n",
            "Epoch 49/500\n",
            "2005/2005 [==============================] - 7s 3ms/sample - loss: 1.5444 - acc: 0.3317 - val_loss: 1.5514 - val_acc: 0.3323\n",
            "Epoch 50/500\n",
            "2005/2005 [==============================] - 7s 3ms/sample - loss: 1.5532 - acc: 0.3302 - val_loss: 1.5498 - val_acc: 0.3338\n",
            "Epoch 51/500\n",
            "2005/2005 [==============================] - 6s 3ms/sample - loss: 1.5592 - acc: 0.3177 - val_loss: 1.5709 - val_acc: 0.3159\n",
            "Epoch 52/500\n",
            "2005/2005 [==============================] - 7s 3ms/sample - loss: 1.5535 - acc: 0.3277 - val_loss: 1.5678 - val_acc: 0.3189\n",
            "Epoch 53/500\n",
            "2005/2005 [==============================] - 7s 3ms/sample - loss: 1.5553 - acc: 0.3162 - val_loss: 1.5435 - val_acc: 0.3323\n",
            "Epoch 54/500\n",
            "2005/2005 [==============================] - 7s 3ms/sample - loss: 1.5489 - acc: 0.3406 - val_loss: 1.5560 - val_acc: 0.3323\n",
            "Epoch 55/500\n",
            "2005/2005 [==============================] - 7s 3ms/sample - loss: 1.5464 - acc: 0.3347 - val_loss: 1.5339 - val_acc: 0.3353\n",
            "Epoch 56/500\n",
            "2005/2005 [==============================] - 6s 3ms/sample - loss: 1.5404 - acc: 0.3287 - val_loss: 1.5275 - val_acc: 0.3428\n",
            "Epoch 57/500\n",
            "2005/2005 [==============================] - 7s 3ms/sample - loss: 1.5460 - acc: 0.3431 - val_loss: 1.5226 - val_acc: 0.3608\n",
            "Epoch 58/500\n",
            "2005/2005 [==============================] - 6s 3ms/sample - loss: 1.5168 - acc: 0.3531 - val_loss: 1.5355 - val_acc: 0.3533\n",
            "Epoch 59/500\n",
            "2005/2005 [==============================] - 7s 3ms/sample - loss: 1.5229 - acc: 0.3531 - val_loss: 1.5285 - val_acc: 0.3548\n",
            "Epoch 60/500\n",
            "2005/2005 [==============================] - 7s 3ms/sample - loss: 1.5272 - acc: 0.3506 - val_loss: 1.5415 - val_acc: 0.3368\n",
            "Epoch 61/500\n",
            "2005/2005 [==============================] - 7s 3ms/sample - loss: 1.5009 - acc: 0.3736 - val_loss: 1.5188 - val_acc: 0.3743\n",
            "Epoch 62/500\n",
            "2005/2005 [==============================] - 7s 3ms/sample - loss: 1.5028 - acc: 0.3701 - val_loss: 1.5279 - val_acc: 0.3638\n",
            "Epoch 63/500\n",
            "2005/2005 [==============================] - 7s 3ms/sample - loss: 1.4805 - acc: 0.3855 - val_loss: 1.5317 - val_acc: 0.3728\n",
            "Epoch 64/500\n",
            "2005/2005 [==============================] - 7s 3ms/sample - loss: 1.4827 - acc: 0.3796 - val_loss: 1.5177 - val_acc: 0.3713\n",
            "Epoch 65/500\n",
            "2005/2005 [==============================] - 7s 3ms/sample - loss: 1.4756 - acc: 0.3830 - val_loss: 1.5058 - val_acc: 0.3563\n",
            "Epoch 66/500\n",
            "2005/2005 [==============================] - 7s 3ms/sample - loss: 1.4656 - acc: 0.3895 - val_loss: 1.4792 - val_acc: 0.3937\n",
            "Epoch 67/500\n",
            "2005/2005 [==============================] - 7s 3ms/sample - loss: 1.4724 - acc: 0.3890 - val_loss: 1.5099 - val_acc: 0.3802\n",
            "Epoch 68/500\n",
            "2005/2005 [==============================] - 7s 3ms/sample - loss: 1.4539 - acc: 0.3920 - val_loss: 1.4565 - val_acc: 0.3922\n",
            "Epoch 69/500\n",
            "2005/2005 [==============================] - 7s 3ms/sample - loss: 1.4452 - acc: 0.3950 - val_loss: 1.4522 - val_acc: 0.4027\n",
            "Epoch 70/500\n",
            "2005/2005 [==============================] - 7s 3ms/sample - loss: 1.6156 - acc: 0.2993 - val_loss: 1.7950 - val_acc: 0.1901\n",
            "Epoch 71/500\n",
            "2005/2005 [==============================] - 6s 3ms/sample - loss: 1.8079 - acc: 0.1840 - val_loss: 1.8003 - val_acc: 0.1856\n",
            "Epoch 72/500\n",
            "2005/2005 [==============================] - 6s 3ms/sample - loss: 1.7728 - acc: 0.1950 - val_loss: 1.7850 - val_acc: 0.1931\n",
            "Epoch 73/500\n",
            "2005/2005 [==============================] - 7s 3ms/sample - loss: 1.7351 - acc: 0.2229 - val_loss: 1.6690 - val_acc: 0.3039\n",
            "Epoch 74/500\n",
            "2005/2005 [==============================] - 6s 3ms/sample - loss: 1.6467 - acc: 0.2853 - val_loss: 1.6019 - val_acc: 0.3039\n",
            "Epoch 75/500\n",
            "2005/2005 [==============================] - 6s 3ms/sample - loss: 1.6165 - acc: 0.3057 - val_loss: 1.5856 - val_acc: 0.3518\n",
            "Epoch 76/500\n",
            "2005/2005 [==============================] - 7s 3ms/sample - loss: 1.5601 - acc: 0.3511 - val_loss: 1.5293 - val_acc: 0.3728\n",
            "Epoch 77/500\n",
            "2005/2005 [==============================] - 7s 3ms/sample - loss: 1.5289 - acc: 0.3641 - val_loss: 1.5242 - val_acc: 0.3683\n",
            "Epoch 78/500\n",
            "2005/2005 [==============================] - 7s 3ms/sample - loss: 1.5080 - acc: 0.3835 - val_loss: 1.5050 - val_acc: 0.3922\n",
            "Epoch 79/500\n",
            "2005/2005 [==============================] - 7s 3ms/sample - loss: 1.4991 - acc: 0.3800 - val_loss: 1.4884 - val_acc: 0.3728\n",
            "Epoch 80/500\n",
            "2005/2005 [==============================] - 7s 3ms/sample - loss: 1.4936 - acc: 0.3930 - val_loss: 1.4820 - val_acc: 0.3967\n",
            "Epoch 81/500\n",
            "2005/2005 [==============================] - 7s 3ms/sample - loss: 1.4984 - acc: 0.3815 - val_loss: 1.4980 - val_acc: 0.3967\n",
            "Epoch 82/500\n",
            "2005/2005 [==============================] - 7s 3ms/sample - loss: 1.4983 - acc: 0.3885 - val_loss: 1.5008 - val_acc: 0.3787\n",
            "Epoch 83/500\n",
            "2005/2005 [==============================] - 7s 3ms/sample - loss: 1.4778 - acc: 0.3875 - val_loss: 1.4678 - val_acc: 0.4102\n",
            "Epoch 84/500\n",
            "2005/2005 [==============================] - 7s 3ms/sample - loss: 1.4778 - acc: 0.3975 - val_loss: 1.4728 - val_acc: 0.3967\n",
            "Epoch 85/500\n",
            "2005/2005 [==============================] - 7s 3ms/sample - loss: 1.4743 - acc: 0.3965 - val_loss: 1.4681 - val_acc: 0.4042\n",
            "Epoch 86/500\n",
            "2005/2005 [==============================] - 7s 3ms/sample - loss: 1.4661 - acc: 0.3950 - val_loss: 1.4930 - val_acc: 0.3862\n",
            "Epoch 87/500\n",
            "2005/2005 [==============================] - 7s 3ms/sample - loss: 1.4658 - acc: 0.3960 - val_loss: 1.6211 - val_acc: 0.3533\n",
            "Epoch 88/500\n",
            "2005/2005 [==============================] - 7s 3ms/sample - loss: 1.4761 - acc: 0.4030 - val_loss: 1.4855 - val_acc: 0.4087\n",
            "Epoch 89/500\n",
            "2005/2005 [==============================] - 7s 3ms/sample - loss: 1.4594 - acc: 0.4090 - val_loss: 1.4531 - val_acc: 0.4132\n",
            "Epoch 90/500\n",
            "2005/2005 [==============================] - 7s 3ms/sample - loss: 1.4492 - acc: 0.4070 - val_loss: 1.4479 - val_acc: 0.4311\n",
            "Epoch 91/500\n",
            "2005/2005 [==============================] - 7s 3ms/sample - loss: 1.4669 - acc: 0.3975 - val_loss: 1.4403 - val_acc: 0.4237\n",
            "Epoch 92/500\n",
            "2005/2005 [==============================] - 7s 3ms/sample - loss: 1.4477 - acc: 0.4145 - val_loss: 1.4340 - val_acc: 0.4177\n",
            "Epoch 93/500\n",
            "2005/2005 [==============================] - 7s 3ms/sample - loss: 1.4340 - acc: 0.4195 - val_loss: 1.4480 - val_acc: 0.4207\n",
            "Epoch 94/500\n",
            "2005/2005 [==============================] - 7s 3ms/sample - loss: 1.4641 - acc: 0.4005 - val_loss: 1.4318 - val_acc: 0.4326\n",
            "Epoch 95/500\n",
            "2005/2005 [==============================] - 7s 3ms/sample - loss: 1.4320 - acc: 0.4244 - val_loss: 1.4853 - val_acc: 0.4102\n",
            "Epoch 96/500\n",
            "2005/2005 [==============================] - 6s 3ms/sample - loss: 1.4570 - acc: 0.4050 - val_loss: 1.4335 - val_acc: 0.4296\n",
            "Epoch 97/500\n",
            "2005/2005 [==============================] - 6s 3ms/sample - loss: 1.4453 - acc: 0.4135 - val_loss: 1.4599 - val_acc: 0.4057\n",
            "Epoch 98/500\n",
            "2005/2005 [==============================] - 6s 3ms/sample - loss: 1.4485 - acc: 0.4100 - val_loss: 1.4285 - val_acc: 0.4042\n",
            "Epoch 99/500\n",
            "2005/2005 [==============================] - 7s 3ms/sample - loss: 1.4501 - acc: 0.4135 - val_loss: 1.4189 - val_acc: 0.4266\n",
            "Epoch 100/500\n",
            "2005/2005 [==============================] - 7s 3ms/sample - loss: 1.4242 - acc: 0.4175 - val_loss: 1.4071 - val_acc: 0.4431\n",
            "Epoch 101/500\n",
            "2005/2005 [==============================] - 7s 3ms/sample - loss: 1.4099 - acc: 0.4359 - val_loss: 1.3990 - val_acc: 0.4281\n",
            "Epoch 102/500\n",
            "2005/2005 [==============================] - 7s 3ms/sample - loss: 1.4110 - acc: 0.4214 - val_loss: 1.4384 - val_acc: 0.4296\n",
            "Epoch 103/500\n",
            "2005/2005 [==============================] - 7s 3ms/sample - loss: 1.3929 - acc: 0.4279 - val_loss: 1.4013 - val_acc: 0.4341\n",
            "Epoch 104/500\n",
            "2005/2005 [==============================] - 7s 3ms/sample - loss: 1.3970 - acc: 0.4339 - val_loss: 1.4113 - val_acc: 0.4296\n",
            "Epoch 105/500\n",
            "2005/2005 [==============================] - 6s 3ms/sample - loss: 1.4081 - acc: 0.4334 - val_loss: 1.4347 - val_acc: 0.3997\n",
            "Epoch 106/500\n",
            "2005/2005 [==============================] - 7s 3ms/sample - loss: 1.3890 - acc: 0.4319 - val_loss: 1.3904 - val_acc: 0.4521\n",
            "Epoch 107/500\n",
            "2005/2005 [==============================] - 6s 3ms/sample - loss: 1.4604 - acc: 0.4080 - val_loss: 1.4328 - val_acc: 0.4266\n",
            "Epoch 108/500\n",
            "2005/2005 [==============================] - 7s 3ms/sample - loss: 1.4473 - acc: 0.4120 - val_loss: 1.4241 - val_acc: 0.4341\n",
            "Epoch 109/500\n",
            "2005/2005 [==============================] - 7s 3ms/sample - loss: 1.3992 - acc: 0.4379 - val_loss: 1.4170 - val_acc: 0.4281\n",
            "Epoch 110/500\n",
            "2005/2005 [==============================] - 7s 3ms/sample - loss: 1.3887 - acc: 0.4489 - val_loss: 1.3984 - val_acc: 0.4476\n",
            "Epoch 111/500\n",
            "2005/2005 [==============================] - 7s 3ms/sample - loss: 1.3656 - acc: 0.4509 - val_loss: 1.3903 - val_acc: 0.4341\n",
            "Epoch 112/500\n",
            "2005/2005 [==============================] - 7s 3ms/sample - loss: 1.3593 - acc: 0.4539 - val_loss: 1.3922 - val_acc: 0.4656\n",
            "Epoch 113/500\n",
            "2005/2005 [==============================] - 7s 3ms/sample - loss: 1.3341 - acc: 0.4529 - val_loss: 1.3796 - val_acc: 0.4446\n",
            "Epoch 114/500\n",
            "2005/2005 [==============================] - 7s 3ms/sample - loss: 1.3365 - acc: 0.4519 - val_loss: 1.4421 - val_acc: 0.4177\n",
            "Epoch 115/500\n",
            "2005/2005 [==============================] - 7s 3ms/sample - loss: 1.3243 - acc: 0.4599 - val_loss: 1.4178 - val_acc: 0.4326\n",
            "Epoch 116/500\n",
            "2005/2005 [==============================] - 7s 3ms/sample - loss: 1.3533 - acc: 0.4384 - val_loss: 1.3640 - val_acc: 0.4566\n",
            "Epoch 117/500\n",
            "2005/2005 [==============================] - 7s 3ms/sample - loss: 1.3143 - acc: 0.4708 - val_loss: 1.3263 - val_acc: 0.4731\n",
            "Epoch 118/500\n",
            "2005/2005 [==============================] - 7s 3ms/sample - loss: 1.3059 - acc: 0.4698 - val_loss: 1.3304 - val_acc: 0.4716\n",
            "Epoch 119/500\n",
            "2005/2005 [==============================] - 7s 3ms/sample - loss: 1.2927 - acc: 0.4768 - val_loss: 1.3501 - val_acc: 0.4536\n",
            "Epoch 120/500\n",
            "2005/2005 [==============================] - 7s 3ms/sample - loss: 1.2923 - acc: 0.4793 - val_loss: 1.3278 - val_acc: 0.4686\n",
            "Epoch 121/500\n",
            "2005/2005 [==============================] - 7s 3ms/sample - loss: 1.2906 - acc: 0.4773 - val_loss: 1.3189 - val_acc: 0.4686\n",
            "Epoch 122/500\n",
            "2005/2005 [==============================] - 7s 3ms/sample - loss: 1.2693 - acc: 0.4788 - val_loss: 1.3188 - val_acc: 0.4461\n",
            "Epoch 123/500\n",
            "2005/2005 [==============================] - 7s 3ms/sample - loss: 1.3190 - acc: 0.4594 - val_loss: 1.3484 - val_acc: 0.4775\n",
            "Epoch 124/500\n",
            "2005/2005 [==============================] - 7s 3ms/sample - loss: 1.2888 - acc: 0.4748 - val_loss: 1.3327 - val_acc: 0.4581\n",
            "Epoch 125/500\n",
            "2005/2005 [==============================] - 7s 3ms/sample - loss: 1.2417 - acc: 0.4883 - val_loss: 1.3220 - val_acc: 0.4716\n",
            "Epoch 126/500\n",
            "2005/2005 [==============================] - 7s 3ms/sample - loss: 1.2580 - acc: 0.4948 - val_loss: 1.2556 - val_acc: 0.5000\n",
            "Epoch 127/500\n",
            "2005/2005 [==============================] - 7s 3ms/sample - loss: 1.2350 - acc: 0.4948 - val_loss: 1.3105 - val_acc: 0.4671\n",
            "Epoch 128/500\n",
            "2005/2005 [==============================] - 7s 3ms/sample - loss: 1.2533 - acc: 0.4848 - val_loss: 1.2745 - val_acc: 0.4985\n",
            "Epoch 129/500\n",
            "2005/2005 [==============================] - 7s 3ms/sample - loss: 1.2325 - acc: 0.4923 - val_loss: 1.3397 - val_acc: 0.4790\n",
            "Epoch 130/500\n",
            "2005/2005 [==============================] - 7s 3ms/sample - loss: 1.2341 - acc: 0.4913 - val_loss: 1.2684 - val_acc: 0.5000\n",
            "Epoch 131/500\n",
            "2005/2005 [==============================] - 7s 3ms/sample - loss: 1.2222 - acc: 0.5112 - val_loss: 1.2342 - val_acc: 0.5299\n",
            "Epoch 132/500\n",
            "2005/2005 [==============================] - 7s 3ms/sample - loss: 1.2385 - acc: 0.4948 - val_loss: 1.2708 - val_acc: 0.4940\n",
            "Epoch 133/500\n",
            "2005/2005 [==============================] - 7s 3ms/sample - loss: 1.2181 - acc: 0.5082 - val_loss: 1.2548 - val_acc: 0.5120\n",
            "Epoch 134/500\n",
            "2005/2005 [==============================] - 6s 3ms/sample - loss: 1.1993 - acc: 0.5162 - val_loss: 1.2316 - val_acc: 0.5359\n",
            "Epoch 135/500\n",
            "2005/2005 [==============================] - 7s 3ms/sample - loss: 1.1744 - acc: 0.5262 - val_loss: 1.2440 - val_acc: 0.4850\n",
            "Epoch 136/500\n",
            "2005/2005 [==============================] - 6s 3ms/sample - loss: 1.2271 - acc: 0.4993 - val_loss: 1.2358 - val_acc: 0.5314\n",
            "Epoch 137/500\n",
            "2005/2005 [==============================] - 6s 3ms/sample - loss: 1.1820 - acc: 0.5242 - val_loss: 1.1963 - val_acc: 0.5314\n",
            "Epoch 138/500\n",
            "2005/2005 [==============================] - 6s 3ms/sample - loss: 1.1699 - acc: 0.5252 - val_loss: 1.1864 - val_acc: 0.5449\n",
            "Epoch 139/500\n",
            "2005/2005 [==============================] - 7s 3ms/sample - loss: 1.1382 - acc: 0.5481 - val_loss: 1.2150 - val_acc: 0.5299\n",
            "Epoch 140/500\n",
            "2005/2005 [==============================] - 7s 3ms/sample - loss: 1.1736 - acc: 0.5387 - val_loss: 1.2183 - val_acc: 0.5359\n",
            "Epoch 141/500\n",
            "2005/2005 [==============================] - 7s 3ms/sample - loss: 1.1583 - acc: 0.5446 - val_loss: 1.1803 - val_acc: 0.5344\n",
            "Epoch 142/500\n",
            "2005/2005 [==============================] - 6s 3ms/sample - loss: 1.1117 - acc: 0.5526 - val_loss: 1.2347 - val_acc: 0.5150\n",
            "Epoch 143/500\n",
            "2005/2005 [==============================] - 6s 3ms/sample - loss: 1.0888 - acc: 0.5626 - val_loss: 1.3477 - val_acc: 0.4775\n",
            "Epoch 144/500\n",
            "2005/2005 [==============================] - 7s 3ms/sample - loss: 1.1094 - acc: 0.5601 - val_loss: 1.1596 - val_acc: 0.5644\n",
            "Epoch 145/500\n",
            "2005/2005 [==============================] - 7s 3ms/sample - loss: 1.0965 - acc: 0.5696 - val_loss: 1.1948 - val_acc: 0.5404\n",
            "Epoch 146/500\n",
            "2005/2005 [==============================] - 6s 3ms/sample - loss: 1.0631 - acc: 0.5800 - val_loss: 1.1330 - val_acc: 0.5524\n",
            "Epoch 147/500\n",
            "2005/2005 [==============================] - 6s 3ms/sample - loss: 1.0772 - acc: 0.5706 - val_loss: 1.1431 - val_acc: 0.5584\n",
            "Epoch 148/500\n",
            "2005/2005 [==============================] - 7s 3ms/sample - loss: 1.0605 - acc: 0.5800 - val_loss: 1.1727 - val_acc: 0.5524\n",
            "Epoch 149/500\n",
            "2005/2005 [==============================] - 7s 3ms/sample - loss: 1.0473 - acc: 0.5840 - val_loss: 1.2076 - val_acc: 0.5389\n",
            "Epoch 150/500\n",
            "2005/2005 [==============================] - 7s 3ms/sample - loss: 1.0650 - acc: 0.5766 - val_loss: 1.1276 - val_acc: 0.5689\n",
            "Epoch 151/500\n",
            "2005/2005 [==============================] - 7s 3ms/sample - loss: 1.0498 - acc: 0.5890 - val_loss: 1.1085 - val_acc: 0.5793\n",
            "Epoch 152/500\n",
            "2005/2005 [==============================] - 6s 3ms/sample - loss: 1.0036 - acc: 0.5980 - val_loss: 1.2566 - val_acc: 0.5210\n",
            "Epoch 153/500\n",
            "2005/2005 [==============================] - 6s 3ms/sample - loss: 1.0790 - acc: 0.5761 - val_loss: 1.1240 - val_acc: 0.5689\n",
            "Epoch 154/500\n",
            "2005/2005 [==============================] - 6s 3ms/sample - loss: 1.0167 - acc: 0.5950 - val_loss: 1.1342 - val_acc: 0.5599\n",
            "Epoch 155/500\n",
            "2005/2005 [==============================] - 6s 3ms/sample - loss: 0.9828 - acc: 0.6224 - val_loss: 1.1471 - val_acc: 0.5509\n",
            "Epoch 156/500\n",
            "2005/2005 [==============================] - 7s 3ms/sample - loss: 0.9902 - acc: 0.6070 - val_loss: 1.1250 - val_acc: 0.5868\n",
            "Epoch 157/500\n",
            "2005/2005 [==============================] - 6s 3ms/sample - loss: 1.0274 - acc: 0.5990 - val_loss: 1.1157 - val_acc: 0.5778\n",
            "Epoch 158/500\n",
            "2005/2005 [==============================] - 6s 3ms/sample - loss: 1.0233 - acc: 0.5990 - val_loss: 1.1851 - val_acc: 0.5389\n",
            "Epoch 159/500\n",
            "2005/2005 [==============================] - 7s 3ms/sample - loss: 1.0187 - acc: 0.6010 - val_loss: 1.1412 - val_acc: 0.5539\n",
            "Epoch 160/500\n",
            "2005/2005 [==============================] - 6s 3ms/sample - loss: 0.9909 - acc: 0.6085 - val_loss: 1.1180 - val_acc: 0.5883\n",
            "Epoch 161/500\n",
            "2005/2005 [==============================] - 6s 3ms/sample - loss: 0.9878 - acc: 0.6264 - val_loss: 1.1468 - val_acc: 0.5793\n",
            "Epoch 162/500\n",
            "2005/2005 [==============================] - 6s 3ms/sample - loss: 0.9806 - acc: 0.6140 - val_loss: 1.1314 - val_acc: 0.5704\n",
            "Epoch 163/500\n",
            "2005/2005 [==============================] - 7s 3ms/sample - loss: 0.9465 - acc: 0.6309 - val_loss: 1.2554 - val_acc: 0.5120\n",
            "Epoch 164/500\n",
            "2005/2005 [==============================] - 7s 3ms/sample - loss: 0.9578 - acc: 0.6289 - val_loss: 1.0862 - val_acc: 0.5943\n",
            "Epoch 165/500\n",
            "2005/2005 [==============================] - 7s 3ms/sample - loss: 0.9706 - acc: 0.6264 - val_loss: 1.0853 - val_acc: 0.5838\n",
            "Epoch 166/500\n",
            "2005/2005 [==============================] - 7s 3ms/sample - loss: 0.9564 - acc: 0.6259 - val_loss: 1.1154 - val_acc: 0.5823\n",
            "Epoch 167/500\n",
            "2005/2005 [==============================] - 7s 3ms/sample - loss: 0.9743 - acc: 0.6294 - val_loss: 1.1117 - val_acc: 0.6048\n",
            "Epoch 168/500\n",
            "2005/2005 [==============================] - 7s 3ms/sample - loss: 0.9482 - acc: 0.6309 - val_loss: 1.1054 - val_acc: 0.5823\n",
            "Epoch 169/500\n",
            "2005/2005 [==============================] - 7s 3ms/sample - loss: 0.9492 - acc: 0.6269 - val_loss: 1.1490 - val_acc: 0.5719\n",
            "Epoch 170/500\n",
            "2005/2005 [==============================] - 7s 3ms/sample - loss: 0.9847 - acc: 0.6190 - val_loss: 1.0595 - val_acc: 0.6033\n",
            "Epoch 171/500\n",
            "2005/2005 [==============================] - 7s 3ms/sample - loss: 0.9291 - acc: 0.6369 - val_loss: 1.1832 - val_acc: 0.5778\n",
            "Epoch 172/500\n",
            "2005/2005 [==============================] - 7s 3ms/sample - loss: 0.9699 - acc: 0.6284 - val_loss: 1.1305 - val_acc: 0.5749\n",
            "Epoch 173/500\n",
            "2005/2005 [==============================] - 7s 3ms/sample - loss: 0.9164 - acc: 0.6519 - val_loss: 1.2162 - val_acc: 0.5509\n",
            "Epoch 174/500\n",
            "2005/2005 [==============================] - 7s 3ms/sample - loss: 0.9577 - acc: 0.6244 - val_loss: 1.0798 - val_acc: 0.5853\n",
            "Epoch 175/500\n",
            "2005/2005 [==============================] - 7s 3ms/sample - loss: 0.9334 - acc: 0.6299 - val_loss: 1.0784 - val_acc: 0.5808\n",
            "Epoch 176/500\n",
            "2005/2005 [==============================] - 7s 3ms/sample - loss: 0.9265 - acc: 0.6489 - val_loss: 1.0732 - val_acc: 0.6003\n",
            "Epoch 177/500\n",
            "2005/2005 [==============================] - 7s 3ms/sample - loss: 0.8897 - acc: 0.6504 - val_loss: 1.0898 - val_acc: 0.6048\n",
            "Epoch 178/500\n",
            "2005/2005 [==============================] - 7s 3ms/sample - loss: 0.9163 - acc: 0.6484 - val_loss: 1.0923 - val_acc: 0.5973\n",
            "Epoch 179/500\n",
            "2005/2005 [==============================] - 7s 3ms/sample - loss: 0.8911 - acc: 0.6494 - val_loss: 1.0569 - val_acc: 0.6138\n",
            "Epoch 180/500\n",
            "2005/2005 [==============================] - 7s 3ms/sample - loss: 0.8835 - acc: 0.6673 - val_loss: 1.1295 - val_acc: 0.5913\n",
            "Epoch 181/500\n",
            "2005/2005 [==============================] - 7s 3ms/sample - loss: 0.8969 - acc: 0.6653 - val_loss: 1.0876 - val_acc: 0.6153\n",
            "Epoch 182/500\n",
            "2005/2005 [==============================] - 7s 3ms/sample - loss: 0.8813 - acc: 0.6643 - val_loss: 1.1240 - val_acc: 0.5988\n",
            "Epoch 183/500\n",
            "2005/2005 [==============================] - 7s 3ms/sample - loss: 0.9332 - acc: 0.6349 - val_loss: 1.1856 - val_acc: 0.5509\n",
            "Epoch 184/500\n",
            "2005/2005 [==============================] - 7s 3ms/sample - loss: 0.9068 - acc: 0.6489 - val_loss: 1.1399 - val_acc: 0.6033\n",
            "Epoch 185/500\n",
            "2005/2005 [==============================] - 7s 3ms/sample - loss: 0.9157 - acc: 0.6494 - val_loss: 1.1935 - val_acc: 0.5704\n",
            "Epoch 186/500\n",
            "2005/2005 [==============================] - 7s 3ms/sample - loss: 1.1745 - acc: 0.5352 - val_loss: 1.8694 - val_acc: 0.1871\n",
            "Epoch 187/500\n",
            "2005/2005 [==============================] - 7s 3ms/sample - loss: 1.8409 - acc: 0.1845 - val_loss: 1.8358 - val_acc: 0.2156\n",
            "Epoch 188/500\n",
            "2005/2005 [==============================] - 7s 3ms/sample - loss: 1.8097 - acc: 0.2150 - val_loss: 1.8080 - val_acc: 0.2485\n",
            "Epoch 189/500\n",
            "2005/2005 [==============================] - 7s 3ms/sample - loss: 1.7910 - acc: 0.2304 - val_loss: 1.7539 - val_acc: 0.2500\n",
            "Epoch 190/500\n",
            "2005/2005 [==============================] - 7s 3ms/sample - loss: 1.7599 - acc: 0.2324 - val_loss: 1.8700 - val_acc: 0.2201\n",
            "Epoch 191/500\n",
            "2005/2005 [==============================] - 7s 3ms/sample - loss: 1.8253 - acc: 0.2095 - val_loss: 1.8282 - val_acc: 0.2246\n",
            "Epoch 192/500\n",
            "2005/2005 [==============================] - 7s 3ms/sample - loss: 1.7703 - acc: 0.2324 - val_loss: 1.7158 - val_acc: 0.3159\n",
            "Epoch 193/500\n",
            "2005/2005 [==============================] - 7s 3ms/sample - loss: 1.6994 - acc: 0.2863 - val_loss: 1.6951 - val_acc: 0.2814\n",
            "Epoch 194/500\n",
            "2005/2005 [==============================] - 7s 3ms/sample - loss: 1.6907 - acc: 0.2948 - val_loss: 1.6619 - val_acc: 0.3353\n",
            "Epoch 195/500\n",
            "2005/2005 [==============================] - 7s 3ms/sample - loss: 1.6590 - acc: 0.3092 - val_loss: 1.6293 - val_acc: 0.3084\n",
            "Epoch 196/500\n",
            "2005/2005 [==============================] - 7s 3ms/sample - loss: 1.6431 - acc: 0.3292 - val_loss: 1.6532 - val_acc: 0.3129\n",
            "Epoch 197/500\n",
            "2005/2005 [==============================] - 7s 3ms/sample - loss: 1.6277 - acc: 0.3192 - val_loss: 1.6049 - val_acc: 0.3338\n",
            "Epoch 198/500\n",
            "2005/2005 [==============================] - 7s 3ms/sample - loss: 1.6383 - acc: 0.3167 - val_loss: 1.6035 - val_acc: 0.3398\n",
            "Epoch 199/500\n",
            "2005/2005 [==============================] - 7s 3ms/sample - loss: 1.6018 - acc: 0.3431 - val_loss: 1.6065 - val_acc: 0.3368\n",
            "Epoch 200/500\n",
            "2005/2005 [==============================] - 7s 3ms/sample - loss: 1.6192 - acc: 0.3172 - val_loss: 1.6456 - val_acc: 0.3054\n",
            "Epoch 201/500\n",
            "2005/2005 [==============================] - 7s 3ms/sample - loss: 1.6348 - acc: 0.3002 - val_loss: 1.6243 - val_acc: 0.3009\n",
            "Epoch 202/500\n",
            "2005/2005 [==============================] - 7s 3ms/sample - loss: 1.6123 - acc: 0.3272 - val_loss: 1.5845 - val_acc: 0.3069\n",
            "Epoch 203/500\n",
            "2005/2005 [==============================] - 7s 3ms/sample - loss: 1.5819 - acc: 0.3372 - val_loss: 1.5641 - val_acc: 0.3518\n",
            "Epoch 204/500\n",
            "2005/2005 [==============================] - 7s 3ms/sample - loss: 1.6027 - acc: 0.3337 - val_loss: 1.5806 - val_acc: 0.3383\n",
            "Epoch 205/500\n",
            "2005/2005 [==============================] - 7s 3ms/sample - loss: 1.5820 - acc: 0.3292 - val_loss: 1.5777 - val_acc: 0.3428\n",
            "Epoch 206/500\n",
            "2005/2005 [==============================] - 7s 3ms/sample - loss: 1.5783 - acc: 0.3436 - val_loss: 1.5515 - val_acc: 0.3458\n",
            "Epoch 207/500\n",
            "2005/2005 [==============================] - 7s 3ms/sample - loss: 1.5870 - acc: 0.3367 - val_loss: 1.5685 - val_acc: 0.3428\n",
            "Epoch 208/500\n",
            "2005/2005 [==============================] - 7s 3ms/sample - loss: 1.5854 - acc: 0.3451 - val_loss: 1.6135 - val_acc: 0.3293\n",
            "Epoch 209/500\n",
            "2005/2005 [==============================] - 7s 3ms/sample - loss: 1.6096 - acc: 0.3207 - val_loss: 1.6138 - val_acc: 0.3383\n",
            "Epoch 210/500\n",
            "2005/2005 [==============================] - 7s 3ms/sample - loss: 1.5896 - acc: 0.3362 - val_loss: 1.5903 - val_acc: 0.3263\n",
            "Epoch 211/500\n",
            "2005/2005 [==============================] - 7s 3ms/sample - loss: 1.5565 - acc: 0.3456 - val_loss: 1.5598 - val_acc: 0.3293\n",
            "Epoch 212/500\n",
            "2005/2005 [==============================] - 7s 3ms/sample - loss: 1.5343 - acc: 0.3646 - val_loss: 1.5406 - val_acc: 0.3353\n",
            "Epoch 213/500\n",
            "2005/2005 [==============================] - 7s 3ms/sample - loss: 1.5322 - acc: 0.3591 - val_loss: 1.5247 - val_acc: 0.3608\n",
            "Epoch 214/500\n",
            "2005/2005 [==============================] - 7s 3ms/sample - loss: 1.5177 - acc: 0.3701 - val_loss: 1.5138 - val_acc: 0.3608\n"
          ],
          "name": "stdout"
        }
      ]
    },
    {
      "cell_type": "markdown",
      "metadata": {
        "id": "OdaBWOLP4cIh",
        "colab_type": "text"
      },
      "source": [
        "Calculate the test accuracy. Before calculating, first load the best model checkpoint based on the highest validation accuracy."
      ]
    },
    {
      "cell_type": "code",
      "metadata": {
        "id": "skU5yANM7npV",
        "colab_type": "code",
        "colab": {}
      },
      "source": [
        "model.load_weights(\"/tmp/best_COST_score.hdf5\")"
      ],
      "execution_count": 0,
      "outputs": []
    },
    {
      "cell_type": "code",
      "metadata": {
        "id": "7HY6KNA30OqP",
        "colab_type": "code",
        "outputId": "44703bb3-8571-4fa6-9611-1963fa4e59c7",
        "colab": {
          "base_uri": "https://localhost:8080/",
          "height": 68
        }
      },
      "source": [
        "score, acc = model.evaluate(x_tst_C, y_tst_C)\n",
        "\n",
        "print('Loss function:', score)\n",
        "print('Test accuracy:', acc)"
      ],
      "execution_count": 0,
      "outputs": [
        {
          "output_type": "stream",
          "text": [
            "669/669 [==============================] - 1s 2ms/sample - loss: 1.1222 - acc: 0.5725\n",
            "Loss function: 1.122156651387122\n",
            "Test accuracy: 0.57249624\n"
          ],
          "name": "stdout"
        }
      ]
    },
    {
      "cell_type": "markdown",
      "metadata": {
        "id": "8JDBisA74dd2",
        "colab_type": "text"
      },
      "source": [
        "Generate extra visual information for the report."
      ]
    },
    {
      "cell_type": "code",
      "metadata": {
        "id": "JGcLtl1U4c3_",
        "colab_type": "code",
        "outputId": "9a938fb2-f98f-4a13-da88-daecea485bf0",
        "colab": {
          "base_uri": "https://localhost:8080/",
          "height": 255
        }
      },
      "source": [
        "model.summary()"
      ],
      "execution_count": 0,
      "outputs": [
        {
          "output_type": "stream",
          "text": [
            "Model: \"sequential_65\"\n",
            "_________________________________________________________________\n",
            "Layer (type)                 Output Shape              Param #   \n",
            "=================================================================\n",
            "cu_dnnlstm_130 (CuDNNLSTM)   (None, 432, 54)           25920     \n",
            "_________________________________________________________________\n",
            "cu_dnnlstm_131 (CuDNNLSTM)   (None, 27)                8964      \n",
            "_________________________________________________________________\n",
            "dense_65 (Dense)             (None, 6)                 168       \n",
            "=================================================================\n",
            "Total params: 35,052\n",
            "Trainable params: 35,052\n",
            "Non-trainable params: 0\n",
            "_________________________________________________________________\n"
          ],
          "name": "stdout"
        }
      ]
    },
    {
      "cell_type": "code",
      "metadata": {
        "id": "cHZX5oY3e6EQ",
        "colab_type": "code",
        "outputId": "c3c6cab7-cfd6-4bc9-a0fd-0957ec70608e",
        "colab": {
          "base_uri": "https://localhost:8080/",
          "height": 565
        }
      },
      "source": [
        "#Plot train and validation accuracy\n",
        "acc = plt.style.use('seaborn-whitegrid')\n",
        "acc = plt.plot(history_C.history['acc'], color = \"#31475C\")\n",
        "acc = plt.plot(history_C.history['val_acc'], color = \"#9DABB5\")\n",
        "acc = plt.title('Model accuracy')\n",
        "acc = plt.ylabel('Accuracy')\n",
        "acc = plt.xlabel('Epochs')\n",
        "acc = plt.legend(['Train', 'Validation'], loc = 'upper left', fontsize = 12)\n",
        "acc = plt.axvline(x = 179)\n",
        "acc = plt.text(140, 0.3, 'CheckPoint')\n",
        "acc = plt.savefig('figures/COST_acc.png')\n",
        "acc = plt.show()\n",
        "\n",
        "#Plot train and validation loss\n",
        "loss = plt.style.use('seaborn-whitegrid')\n",
        "loss = plt.plot(history_C.history['loss'], color = \"#31475C\")\n",
        "loss = plt.plot(history_C.history['val_loss'], color = \"#9DABB5\")\n",
        "loss = plt.title('Model loss')\n",
        "loss = plt.ylabel('Loss')\n",
        "loss = plt.xlabel('Epochs')\n",
        "loss = plt.legend(['Train', 'Validation'], loc = 'lower left', fontsize = 12)\n",
        "loss = plt.axvline(x = 179)\n",
        "loss = plt.text(140, 1.6, 'CheckPoint')\n",
        "loss = plt.savefig('figures/COST_loss.png')\n",
        "loss = plt.show()"
      ],
      "execution_count": 0,
      "outputs": [
        {
          "output_type": "display_data",
          "data": {
            "image/png": "[encoded data removed]",
            "text/plain": [
              "<Figure size 432x288 with 1 Axes>"
            ]
          },
          "metadata": {
            "tags": []
          }
        },
        {
          "output_type": "display_data",
          "data": {
            "image/png": "[encoded data removed]",
            "text/plain": [
              "<Figure size 432x288 with 1 Axes>"
            ]
          },
          "metadata": {
            "tags": []
          }
        }
      ]
    },
    {
      "cell_type": "markdown",
      "metadata": {
        "id": "yU5zH6usGQcO",
        "colab_type": "text"
      },
      "source": [
        "Create confusion matrix."
      ]
    },
    {
      "cell_type": "code",
      "metadata": {
        "id": "LjTEEOVCGQoV",
        "colab_type": "code",
        "colab": {}
      },
      "source": [
        "y_pred_C = model.predict_classes(x_tst_C)\n",
        "\n",
        "counter = 0\n",
        "y_tst_cat_C = []\n",
        "for value in y_tst_C:\n",
        "  y_tst_cat_C.append(str(argmax(y_tst_C[counter])))\n",
        "  counter += 1\n",
        "\n",
        "y_tst_C = np.array(y_tst_cat_C)\n",
        "y_tst_C = y_tst_C.astype(int)"
      ],
      "execution_count": 0,
      "outputs": []
    },
    {
      "cell_type": "code",
      "metadata": {
        "id": "qzDu8hO4GQtH",
        "colab_type": "code",
        "colab": {}
      },
      "source": [
        "cnf_matrix = confusion_matrix(y_tst_C, y_pred_C, labels=[0,1,2,3,4,5])\n",
        "\n",
        "COST_cm = plot_confusion_matrix(cnf_matrix, classes=[\"pat\",\"constant\",\"rub\",\"scratch\",\"stroke\",\"tickle\"])\n",
        "\n",
        "COST_cm = plt.savefig('figures/COST_cm.png')"
      ],
      "execution_count": 0,
      "outputs": []
    },
    {
      "cell_type": "markdown",
      "metadata": {
        "id": "sDseyPq9jFhO",
        "colab_type": "text"
      },
      "source": [
        "##2.5. Model 3: CoST-HAART"
      ]
    },
    {
      "cell_type": "markdown",
      "metadata": {
        "id": "QLqgPUU7DK_e",
        "colab_type": "text"
      },
      "source": [
        "This model obtained classification results of 49.2% on the training set and 46.9% on the validation set."
      ]
    },
    {
      "cell_type": "code",
      "metadata": {
        "id": "UDTbNFyTjmft",
        "colab_type": "code",
        "outputId": "4ef5d131-5647-49e4-b5da-45ac44cd1c10",
        "colab": {
          "base_uri": "https://localhost:8080/",
          "height": 1000
        }
      },
      "source": [
        "model = Sequential()\n",
        "\n",
        "model.add(CuDNNLSTM(54, kernel_regularizer = l2(l = 0.001), input_shape =(x_trn_HC.shape[1:]), return_sequences = True))\n",
        "\n",
        "model.add(CuDNNLSTM(27, kernel_regularizer = l2(l = 0.001)))\n",
        "          \n",
        "model.add(Dense(6, activation = \"softmax\"))\n",
        "          \n",
        "opt = tf.keras.optimizers.Adam(lr=0.001)\n",
        "\n",
        "es = EarlyStopping(monitor = 'val_loss', \n",
        "                   mode = 'min', \n",
        "                   patience = 10)\n",
        "cp = ModelCheckpoint(monitor = 'val_acc',\n",
        "                     mode = 'max',\n",
        "                     filepath='/tmp/best_HC_score.hdf5', \n",
        "                     save_best_only = True)\n",
        "\n",
        "model.compile(loss = \"categorical_crossentropy\",\n",
        "              optimizer = opt,\n",
        "              metrics = [\"accuracy\"])\n",
        "\n",
        "history_HC = model.fit(x_trn_HC, \n",
        "                       y_trn_HC,\n",
        "                       batch_size = 5,\n",
        "                       epochs = 100,\n",
        "                       callbacks = [es, cp], \n",
        "                       validation_data = (x_val_HC, y_val_HC))  "
      ],
      "execution_count": 0,
      "outputs": [
        {
          "output_type": "stream",
          "text": [
            "Train on 2431 samples, validate on 810 samples\n",
            "Epoch 1/100\n",
            "2431/2431 [==============================] - 17s 7ms/sample - loss: 1.8315 - acc: 0.2143 - val_loss: 1.8045 - val_acc: 0.2148\n",
            "Epoch 2/100\n",
            "2431/2431 [==============================] - 12s 5ms/sample - loss: 1.7590 - acc: 0.2411 - val_loss: 1.7657 - val_acc: 0.2407\n",
            "Epoch 3/100\n",
            "2431/2431 [==============================] - 13s 5ms/sample - loss: 1.7455 - acc: 0.2345 - val_loss: 1.7555 - val_acc: 0.2222\n",
            "Epoch 4/100\n",
            "2431/2431 [==============================] - 13s 5ms/sample - loss: 1.6954 - acc: 0.2830 - val_loss: 1.6972 - val_acc: 0.2778\n",
            "Epoch 5/100\n",
            "2431/2431 [==============================] - 13s 5ms/sample - loss: 1.6591 - acc: 0.2937 - val_loss: 1.6461 - val_acc: 0.3012\n",
            "Epoch 6/100\n",
            "2431/2431 [==============================] - 13s 5ms/sample - loss: 1.6334 - acc: 0.3200 - val_loss: 1.6675 - val_acc: 0.2914\n",
            "Epoch 7/100\n",
            "2431/2431 [==============================] - 13s 5ms/sample - loss: 1.6342 - acc: 0.3270 - val_loss: 1.6845 - val_acc: 0.2975\n",
            "Epoch 8/100\n",
            "2431/2431 [==============================] - 12s 5ms/sample - loss: 1.6383 - acc: 0.3159 - val_loss: 1.6618 - val_acc: 0.2815\n",
            "Epoch 9/100\n",
            "2431/2431 [==============================] - 13s 5ms/sample - loss: 1.6157 - acc: 0.3295 - val_loss: 1.6166 - val_acc: 0.3210\n",
            "Epoch 10/100\n",
            "2431/2431 [==============================] - 13s 5ms/sample - loss: 1.5998 - acc: 0.3459 - val_loss: 1.6224 - val_acc: 0.3185\n",
            "Epoch 11/100\n",
            "2431/2431 [==============================] - 13s 5ms/sample - loss: 1.5932 - acc: 0.3377 - val_loss: 1.5990 - val_acc: 0.3272\n",
            "Epoch 12/100\n",
            "2431/2431 [==============================] - 13s 5ms/sample - loss: 1.5584 - acc: 0.3550 - val_loss: 1.6288 - val_acc: 0.3062\n",
            "Epoch 13/100\n",
            "2431/2431 [==============================] - 13s 5ms/sample - loss: 1.6585 - acc: 0.3102 - val_loss: 1.6853 - val_acc: 0.2469\n",
            "Epoch 14/100\n",
            "2431/2431 [==============================] - 13s 5ms/sample - loss: 1.5810 - acc: 0.3571 - val_loss: 1.6088 - val_acc: 0.3111\n",
            "Epoch 15/100\n",
            "2431/2431 [==============================] - 13s 5ms/sample - loss: 1.5613 - acc: 0.3480 - val_loss: 1.6135 - val_acc: 0.3296\n",
            "Epoch 16/100\n",
            "2431/2431 [==============================] - 13s 5ms/sample - loss: 1.5498 - acc: 0.3497 - val_loss: 1.5824 - val_acc: 0.3383\n",
            "Epoch 17/100\n",
            "2431/2431 [==============================] - 13s 5ms/sample - loss: 1.5717 - acc: 0.3472 - val_loss: 1.6008 - val_acc: 0.3235\n",
            "Epoch 18/100\n",
            "2431/2431 [==============================] - 12s 5ms/sample - loss: 1.5272 - acc: 0.3624 - val_loss: 1.5907 - val_acc: 0.3235\n",
            "Epoch 19/100\n",
            "2431/2431 [==============================] - 12s 5ms/sample - loss: 1.5362 - acc: 0.3616 - val_loss: 1.6555 - val_acc: 0.2741\n",
            "Epoch 20/100\n",
            "2431/2431 [==============================] - 12s 5ms/sample - loss: 1.5372 - acc: 0.3624 - val_loss: 1.6002 - val_acc: 0.3198\n",
            "Epoch 21/100\n",
            "2431/2431 [==============================] - 12s 5ms/sample - loss: 1.5475 - acc: 0.3488 - val_loss: 1.5751 - val_acc: 0.3309\n",
            "Epoch 22/100\n",
            "2431/2431 [==============================] - 12s 5ms/sample - loss: 1.5434 - acc: 0.3649 - val_loss: 1.5855 - val_acc: 0.3346\n",
            "Epoch 23/100\n",
            "2431/2431 [==============================] - 13s 5ms/sample - loss: 1.6876 - acc: 0.2871 - val_loss: 1.6601 - val_acc: 0.3074\n",
            "Epoch 24/100\n",
            "2431/2431 [==============================] - 12s 5ms/sample - loss: 1.6143 - acc: 0.3270 - val_loss: 1.6632 - val_acc: 0.2975\n",
            "Epoch 25/100\n",
            "2431/2431 [==============================] - 12s 5ms/sample - loss: 1.5754 - acc: 0.3608 - val_loss: 1.6077 - val_acc: 0.3136\n",
            "Epoch 26/100\n",
            "2431/2431 [==============================] - 12s 5ms/sample - loss: 1.5637 - acc: 0.3451 - val_loss: 1.6086 - val_acc: 0.3123\n",
            "Epoch 27/100\n",
            "2431/2431 [==============================] - 12s 5ms/sample - loss: 1.6005 - acc: 0.3377 - val_loss: 1.6525 - val_acc: 0.2802\n",
            "Epoch 28/100\n",
            "2431/2431 [==============================] - 12s 5ms/sample - loss: 1.5717 - acc: 0.3501 - val_loss: 1.6367 - val_acc: 0.3235\n",
            "Epoch 29/100\n",
            "2431/2431 [==============================] - 12s 5ms/sample - loss: 1.5660 - acc: 0.3558 - val_loss: 1.5771 - val_acc: 0.3321\n",
            "Epoch 30/100\n",
            "2431/2431 [==============================] - 12s 5ms/sample - loss: 1.5537 - acc: 0.3529 - val_loss: 1.5907 - val_acc: 0.3407\n",
            "Epoch 31/100\n",
            "2431/2431 [==============================] - 12s 5ms/sample - loss: 1.5264 - acc: 0.3595 - val_loss: 1.5544 - val_acc: 0.3210\n",
            "Epoch 32/100\n",
            "2431/2431 [==============================] - 12s 5ms/sample - loss: 1.5174 - acc: 0.3772 - val_loss: 1.6215 - val_acc: 0.3210\n",
            "Epoch 33/100\n",
            "2431/2431 [==============================] - 12s 5ms/sample - loss: 1.5051 - acc: 0.3710 - val_loss: 1.5580 - val_acc: 0.3469\n",
            "Epoch 34/100\n",
            "2431/2431 [==============================] - 12s 5ms/sample - loss: 1.5332 - acc: 0.3632 - val_loss: 1.7043 - val_acc: 0.3185\n",
            "Epoch 35/100\n",
            "2431/2431 [==============================] - 12s 5ms/sample - loss: 1.6195 - acc: 0.3390 - val_loss: 1.6594 - val_acc: 0.2926\n",
            "Epoch 36/100\n",
            "2431/2431 [==============================] - 12s 5ms/sample - loss: 1.5543 - acc: 0.3657 - val_loss: 1.5820 - val_acc: 0.3370\n",
            "Epoch 37/100\n",
            "2431/2431 [==============================] - 13s 5ms/sample - loss: 1.5137 - acc: 0.3830 - val_loss: 1.5470 - val_acc: 0.3420\n",
            "Epoch 38/100\n",
            "2431/2431 [==============================] - 12s 5ms/sample - loss: 1.4873 - acc: 0.4007 - val_loss: 1.5540 - val_acc: 0.3198\n",
            "Epoch 39/100\n",
            "2431/2431 [==============================] - 12s 5ms/sample - loss: 1.4787 - acc: 0.3957 - val_loss: 1.5305 - val_acc: 0.3556\n",
            "Epoch 40/100\n",
            "2431/2431 [==============================] - 12s 5ms/sample - loss: 1.5060 - acc: 0.3842 - val_loss: 1.6044 - val_acc: 0.2914\n",
            "Epoch 41/100\n",
            "2431/2431 [==============================] - 13s 5ms/sample - loss: 1.5350 - acc: 0.3636 - val_loss: 1.5532 - val_acc: 0.3333\n",
            "Epoch 42/100\n",
            "2431/2431 [==============================] - 13s 5ms/sample - loss: 1.5048 - acc: 0.3912 - val_loss: 1.7026 - val_acc: 0.3370\n",
            "Epoch 43/100\n",
            "2431/2431 [==============================] - 13s 5ms/sample - loss: 1.4979 - acc: 0.3961 - val_loss: 1.5625 - val_acc: 0.3444\n",
            "Epoch 44/100\n",
            "2431/2431 [==============================] - 13s 5ms/sample - loss: 1.5265 - acc: 0.3702 - val_loss: 1.5495 - val_acc: 0.3444\n",
            "Epoch 45/100\n",
            "2431/2431 [==============================] - 12s 5ms/sample - loss: 1.5002 - acc: 0.3941 - val_loss: 1.5326 - val_acc: 0.3556\n",
            "Epoch 46/100\n",
            "2431/2431 [==============================] - 12s 5ms/sample - loss: 1.4798 - acc: 0.3994 - val_loss: 1.5373 - val_acc: 0.3531\n",
            "Epoch 47/100\n",
            "2431/2431 [==============================] - 13s 5ms/sample - loss: 1.4810 - acc: 0.3784 - val_loss: 1.5187 - val_acc: 0.3481\n",
            "Epoch 48/100\n",
            "2431/2431 [==============================] - 13s 5ms/sample - loss: 1.4655 - acc: 0.3957 - val_loss: 1.5120 - val_acc: 0.3568\n",
            "Epoch 49/100\n",
            "2431/2431 [==============================] - 12s 5ms/sample - loss: 1.4576 - acc: 0.4175 - val_loss: 1.5250 - val_acc: 0.3593\n",
            "Epoch 50/100\n",
            "2431/2431 [==============================] - 12s 5ms/sample - loss: 1.4575 - acc: 0.3986 - val_loss: 1.4978 - val_acc: 0.3605\n",
            "Epoch 51/100\n",
            "2431/2431 [==============================] - 12s 5ms/sample - loss: 1.4494 - acc: 0.4052 - val_loss: 1.5375 - val_acc: 0.3778\n",
            "Epoch 52/100\n",
            "2431/2431 [==============================] - 12s 5ms/sample - loss: 1.4727 - acc: 0.4027 - val_loss: 1.5871 - val_acc: 0.3062\n",
            "Epoch 53/100\n",
            "2431/2431 [==============================] - 12s 5ms/sample - loss: 1.4781 - acc: 0.3908 - val_loss: 1.6235 - val_acc: 0.3506\n",
            "Epoch 54/100\n",
            "2431/2431 [==============================] - 13s 5ms/sample - loss: 1.4547 - acc: 0.4167 - val_loss: 1.5108 - val_acc: 0.3617\n",
            "Epoch 55/100\n",
            "2431/2431 [==============================] - 12s 5ms/sample - loss: 1.4347 - acc: 0.4179 - val_loss: 1.5363 - val_acc: 0.3790\n",
            "Epoch 56/100\n",
            "2431/2431 [==============================] - 12s 5ms/sample - loss: 1.4406 - acc: 0.4072 - val_loss: 1.5566 - val_acc: 0.3444\n",
            "Epoch 57/100\n",
            "2431/2431 [==============================] - 12s 5ms/sample - loss: 1.4203 - acc: 0.4208 - val_loss: 1.5784 - val_acc: 0.3346\n",
            "Epoch 58/100\n",
            "2431/2431 [==============================] - 13s 5ms/sample - loss: 1.4470 - acc: 0.4011 - val_loss: 1.5028 - val_acc: 0.3679\n",
            "Epoch 59/100\n",
            "2431/2431 [==============================] - 13s 5ms/sample - loss: 1.3960 - acc: 0.4299 - val_loss: 1.4902 - val_acc: 0.3852\n",
            "Epoch 60/100\n",
            "2431/2431 [==============================] - 12s 5ms/sample - loss: 1.4298 - acc: 0.4258 - val_loss: 1.5244 - val_acc: 0.3654\n",
            "Epoch 61/100\n",
            "2431/2431 [==============================] - 12s 5ms/sample - loss: 1.4016 - acc: 0.4373 - val_loss: 1.5034 - val_acc: 0.3765\n",
            "Epoch 62/100\n",
            "2431/2431 [==============================] - 13s 5ms/sample - loss: 1.4118 - acc: 0.4200 - val_loss: 1.5153 - val_acc: 0.3617\n",
            "Epoch 63/100\n",
            "2431/2431 [==============================] - 12s 5ms/sample - loss: 1.4197 - acc: 0.4253 - val_loss: 1.5187 - val_acc: 0.3691\n",
            "Epoch 64/100\n",
            "2431/2431 [==============================] - 13s 5ms/sample - loss: 1.3811 - acc: 0.4336 - val_loss: 1.4678 - val_acc: 0.3864\n",
            "Epoch 65/100\n",
            "2431/2431 [==============================] - 12s 5ms/sample - loss: 1.4161 - acc: 0.4270 - val_loss: 1.5259 - val_acc: 0.3580\n",
            "Epoch 66/100\n",
            "2431/2431 [==============================] - 13s 5ms/sample - loss: 1.3963 - acc: 0.4356 - val_loss: 1.4554 - val_acc: 0.4123\n",
            "Epoch 67/100\n",
            "2431/2431 [==============================] - 13s 5ms/sample - loss: 1.4458 - acc: 0.4183 - val_loss: 1.5148 - val_acc: 0.3704\n",
            "Epoch 68/100\n",
            "2431/2431 [==============================] - 13s 5ms/sample - loss: 1.4519 - acc: 0.4138 - val_loss: 1.5019 - val_acc: 0.3852\n",
            "Epoch 69/100\n",
            "2431/2431 [==============================] - 12s 5ms/sample - loss: 1.4458 - acc: 0.4126 - val_loss: 1.6307 - val_acc: 0.3123\n",
            "Epoch 70/100\n",
            "2431/2431 [==============================] - 12s 5ms/sample - loss: 1.4519 - acc: 0.4093 - val_loss: 1.4992 - val_acc: 0.3877\n",
            "Epoch 71/100\n",
            "2431/2431 [==============================] - 13s 5ms/sample - loss: 1.4123 - acc: 0.4377 - val_loss: 1.5021 - val_acc: 0.3753\n",
            "Epoch 72/100\n",
            "2431/2431 [==============================] - 12s 5ms/sample - loss: 1.3832 - acc: 0.4336 - val_loss: 1.4840 - val_acc: 0.3753\n",
            "Epoch 73/100\n",
            "2431/2431 [==============================] - 12s 5ms/sample - loss: 1.3773 - acc: 0.4377 - val_loss: 1.4768 - val_acc: 0.3728\n",
            "Epoch 74/100\n",
            "2431/2431 [==============================] - 13s 5ms/sample - loss: 1.3790 - acc: 0.4401 - val_loss: 1.4688 - val_acc: 0.4012\n",
            "Epoch 75/100\n",
            "2431/2431 [==============================] - 12s 5ms/sample - loss: 1.3676 - acc: 0.4467 - val_loss: 1.4575 - val_acc: 0.3914\n",
            "Epoch 76/100\n",
            "2431/2431 [==============================] - 13s 5ms/sample - loss: 1.3382 - acc: 0.4652 - val_loss: 1.4370 - val_acc: 0.4074\n",
            "Epoch 77/100\n",
            "2431/2431 [==============================] - 12s 5ms/sample - loss: 1.3420 - acc: 0.4578 - val_loss: 1.4527 - val_acc: 0.4123\n",
            "Epoch 78/100\n",
            "2431/2431 [==============================] - 12s 5ms/sample - loss: 1.4171 - acc: 0.4340 - val_loss: 1.5975 - val_acc: 0.3704\n",
            "Epoch 79/100\n",
            "2431/2431 [==============================] - 12s 5ms/sample - loss: 1.3963 - acc: 0.4467 - val_loss: 1.4915 - val_acc: 0.4099\n",
            "Epoch 80/100\n",
            "2431/2431 [==============================] - 13s 5ms/sample - loss: 1.3816 - acc: 0.4463 - val_loss: 1.4873 - val_acc: 0.3914\n",
            "Epoch 81/100\n",
            "2431/2431 [==============================] - 13s 5ms/sample - loss: 1.4073 - acc: 0.4554 - val_loss: 1.4697 - val_acc: 0.4012\n",
            "Epoch 82/100\n",
            "2431/2431 [==============================] - 13s 5ms/sample - loss: 1.3457 - acc: 0.4657 - val_loss: 1.4633 - val_acc: 0.3926\n",
            "Epoch 83/100\n",
            "2431/2431 [==============================] - 13s 5ms/sample - loss: 1.3992 - acc: 0.4545 - val_loss: 1.5227 - val_acc: 0.3765\n",
            "Epoch 84/100\n",
            "2431/2431 [==============================] - 12s 5ms/sample - loss: 1.3737 - acc: 0.4492 - val_loss: 1.4536 - val_acc: 0.3889\n",
            "Epoch 85/100\n",
            "2431/2431 [==============================] - 12s 5ms/sample - loss: 1.3303 - acc: 0.4632 - val_loss: 1.4484 - val_acc: 0.4062\n",
            "Epoch 86/100\n",
            "2431/2431 [==============================] - 13s 5ms/sample - loss: 1.3452 - acc: 0.4632 - val_loss: 1.4340 - val_acc: 0.4235\n",
            "Epoch 87/100\n",
            "2431/2431 [==============================] - 13s 5ms/sample - loss: 1.3190 - acc: 0.4718 - val_loss: 1.4371 - val_acc: 0.4185\n",
            "Epoch 88/100\n",
            "2431/2431 [==============================] - 13s 5ms/sample - loss: 1.3327 - acc: 0.4759 - val_loss: 1.4306 - val_acc: 0.4235\n",
            "Epoch 89/100\n",
            "2431/2431 [==============================] - 12s 5ms/sample - loss: 1.3030 - acc: 0.4796 - val_loss: 1.3922 - val_acc: 0.4519\n",
            "Epoch 90/100\n",
            "2431/2431 [==============================] - 12s 5ms/sample - loss: 1.2905 - acc: 0.4932 - val_loss: 1.4443 - val_acc: 0.4296\n",
            "Epoch 91/100\n",
            "2431/2431 [==============================] - 13s 5ms/sample - loss: 1.3039 - acc: 0.4920 - val_loss: 1.4259 - val_acc: 0.4272\n",
            "Epoch 92/100\n",
            "2431/2431 [==============================] - 12s 5ms/sample - loss: 1.2896 - acc: 0.4879 - val_loss: 1.3876 - val_acc: 0.4506\n",
            "Epoch 93/100\n",
            "2431/2431 [==============================] - 12s 5ms/sample - loss: 1.2630 - acc: 0.5076 - val_loss: 1.3678 - val_acc: 0.4457\n",
            "Epoch 94/100\n",
            "2431/2431 [==============================] - 13s 5ms/sample - loss: 1.2542 - acc: 0.5101 - val_loss: 1.3683 - val_acc: 0.4506\n",
            "Epoch 95/100\n",
            "2431/2431 [==============================] - 13s 5ms/sample - loss: 1.2442 - acc: 0.5154 - val_loss: 1.4050 - val_acc: 0.4420\n",
            "Epoch 96/100\n",
            "2431/2431 [==============================] - 13s 5ms/sample - loss: 1.3156 - acc: 0.4825 - val_loss: 1.4789 - val_acc: 0.4235\n",
            "Epoch 97/100\n",
            "2431/2431 [==============================] - 13s 5ms/sample - loss: 1.3031 - acc: 0.4895 - val_loss: 1.5354 - val_acc: 0.4099\n",
            "Epoch 98/100\n",
            "2431/2431 [==============================] - 12s 5ms/sample - loss: 1.3160 - acc: 0.4854 - val_loss: 1.4342 - val_acc: 0.4432\n",
            "Epoch 99/100\n",
            "2431/2431 [==============================] - 13s 5ms/sample - loss: 1.2649 - acc: 0.4924 - val_loss: 1.3620 - val_acc: 0.4691\n",
            "Epoch 100/100\n",
            "2431/2431 [==============================] - 13s 5ms/sample - loss: 1.2445 - acc: 0.5109 - val_loss: 1.3612 - val_acc: 0.4568\n"
          ],
          "name": "stdout"
        }
      ]
    },
    {
      "cell_type": "markdown",
      "metadata": {
        "id": "Pqj8I4vDKkub",
        "colab_type": "text"
      },
      "source": [
        "Calculate the test accuracy. Before calculating, first load the best model checkpoint based on the highest validation accuracy."
      ]
    },
    {
      "cell_type": "code",
      "metadata": {
        "id": "583XSijNf7IQ",
        "colab_type": "code",
        "colab": {}
      },
      "source": [
        "model.load_weights(\"/tmp/best_HC_score.hdf5\")"
      ],
      "execution_count": 0,
      "outputs": []
    },
    {
      "cell_type": "code",
      "metadata": {
        "id": "X-Nv8lpjgATG",
        "colab_type": "code",
        "outputId": "b0d0bc89-928c-4e04-c31e-771bc6733b71",
        "colab": {
          "base_uri": "https://localhost:8080/",
          "height": 67
        }
      },
      "source": [
        "score, acc = model.evaluate(x_tst_HC, y_tst_HC)\n",
        "\n",
        "print('Loss function:', score)\n",
        "print('Test accuracy:', acc)"
      ],
      "execution_count": 0,
      "outputs": [
        {
          "output_type": "stream",
          "text": [
            "811/811 [==============================] - 1s 1ms/sample - loss: 1.2911 - acc: 0.4784\n",
            "Loss function: 1.291060526773756\n",
            "Test accuracy: 0.4784217\n"
          ],
          "name": "stdout"
        }
      ]
    },
    {
      "cell_type": "markdown",
      "metadata": {
        "id": "dh6yLtzdKVk7",
        "colab_type": "text"
      },
      "source": [
        "Generate extra visual information for the report."
      ]
    },
    {
      "cell_type": "code",
      "metadata": {
        "id": "VhcqnEd43WD6",
        "colab_type": "code",
        "outputId": "e551fc8b-8387-4f7a-ac90-8a0273c2db73",
        "colab": {
          "base_uri": "https://localhost:8080/",
          "height": 252
        }
      },
      "source": [
        "model.summary()"
      ],
      "execution_count": 0,
      "outputs": [
        {
          "output_type": "stream",
          "text": [
            "Model: \"sequential_6\"\n",
            "_________________________________________________________________\n",
            "Layer (type)                 Output Shape              Param #   \n",
            "=================================================================\n",
            "cu_dnnlstm_12 (CuDNNLSTM)    (None, 432, 54)           25920     \n",
            "_________________________________________________________________\n",
            "cu_dnnlstm_13 (CuDNNLSTM)    (None, 27)                8964      \n",
            "_________________________________________________________________\n",
            "dense_6 (Dense)              (None, 6)                 168       \n",
            "=================================================================\n",
            "Total params: 35,052\n",
            "Trainable params: 35,052\n",
            "Non-trainable params: 0\n",
            "_________________________________________________________________\n"
          ],
          "name": "stdout"
        }
      ]
    },
    {
      "cell_type": "code",
      "metadata": {
        "id": "tLEvZ9cLiAov",
        "colab_type": "code",
        "outputId": "e9acc6be-11f1-402a-b447-7552ed304477",
        "colab": {
          "base_uri": "https://localhost:8080/",
          "height": 565
        }
      },
      "source": [
        "#Plot train and validation accuracy\n",
        "acc = plt.style.use('seaborn-whitegrid')\n",
        "acc = plt.plot(history_HC.history['acc'], color = \"#31475C\")\n",
        "acc = plt.plot(history_HC.history['val_acc'], color = \"#9DABB5\")\n",
        "acc = plt.title('Model accuracy')\n",
        "acc = plt.ylabel('Accuracy')\n",
        "acc = plt.xlabel('Epochs')\n",
        "acc = plt.legend(['Train', 'Validation'], loc = 'upper left', fontsize = 12)\n",
        "acc = plt.axvline(x = 98)\n",
        "acc = plt.text(80, 0.25, 'CheckPoint')\n",
        "acc = plt.savefig('figures/HAARTCOST_acc.png')\n",
        "acc = plt.show()\n",
        "\n",
        "#Plot train and validation loss\n",
        "loss = plt.style.use('seaborn-whitegrid')\n",
        "loss = plt.plot(history_HC.history['loss'], color = \"#31475C\")\n",
        "loss = plt.plot(history_HC.history['val_loss'], color = \"#9DABB5\")\n",
        "loss = plt.title('Model loss')\n",
        "loss = plt.ylabel('Loss')\n",
        "loss = plt.xlabel('Epochs')\n",
        "loss = plt.legend(['Train', 'Validation'], loc = 'lower left', fontsize = 12)\n",
        "loss = plt.axvline(x = 98)\n",
        "loss = plt.text(80, 1.70, 'CheckPoint')\n",
        "loss = plt.savefig('figures/HAARTCOST_loss.png')\n",
        "loss = plt.show()"
      ],
      "execution_count": 0,
      "outputs": [
        {
          "output_type": "display_data",
          "data": {
            "image/png": "[encoded data removed]",
            "text/plain": [
              "<Figure size 432x288 with 1 Axes>"
            ]
          },
          "metadata": {
            "tags": []
          }
        },
        {
          "output_type": "display_data",
          "data": {
            "image/png": "[encoded data removed]",
            "text/plain": [
              "<Figure size 432x288 with 1 Axes>"
            ]
          },
          "metadata": {
            "tags": []
          }
        }
      ]
    },
    {
      "cell_type": "markdown",
      "metadata": {
        "id": "6Lk9S3Y5HtMV",
        "colab_type": "text"
      },
      "source": [
        "Create confusion matrix."
      ]
    },
    {
      "cell_type": "code",
      "metadata": {
        "id": "1IlY3KzeHtZI",
        "colab_type": "code",
        "colab": {}
      },
      "source": [
        "y_pred_HC = model.predict_classes(x_tst_HC)\n",
        "\n",
        "counter = 0\n",
        "y_tst_cat_HC = []\n",
        "for value in y_tst_HC:\n",
        "  y_tst_cat_HC.append(str(argmax(y_tst_HC[counter])))\n",
        "  counter += 1\n",
        "\n",
        "y_tst_HC = np.array(y_tst_cat_HC)\n",
        "y_tst_HC = y_tst_HC.astype(int)"
      ],
      "execution_count": 0,
      "outputs": []
    },
    {
      "cell_type": "code",
      "metadata": {
        "id": "LSGwgtlyHtdE",
        "colab_type": "code",
        "colab": {}
      },
      "source": [
        "cnf_matrix = confusion_matrix(y_tst_HC, y_pred_HC, labels=[0,1,2,3,4,5])\n",
        "\n",
        "COSTHAART_cm = plot_confusion_matrix(cnf_matrix, classes=[\"pat\",\"constant\",\"rub\",\"scratch\",\"stroke\",\"tickle\"])\n",
        "\n",
        "COSTHAART_cm = plt.savefig('figures/COSTHAART_cm.png')"
      ],
      "execution_count": 0,
      "outputs": []
    }
  ]
}